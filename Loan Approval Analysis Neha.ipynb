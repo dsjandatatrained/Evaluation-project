{
 "cells": [
  {
   "cell_type": "code",
   "execution_count": null,
   "id": "5b01d760",
   "metadata": {},
   "outputs": [],
   "source": [
    "#Name-Neha Somvanshi\n",
    "#project_name- Loan Approval Analysis\n",
    "#company_name- FlipRobo\n",
    "#Batch number- DS2307"
   ]
  },
  {
   "cell_type": "code",
   "execution_count": 1,
   "id": "becd54f4",
   "metadata": {},
   "outputs": [],
   "source": [
    "# import libraries\n",
    "%matplotlib inline\n",
    "import numpy as np\n",
    "import pandas as pd\n",
    "import matplotlib.pyplot as plt\n",
    "import seaborn as sns\n",
    "import warnings\n",
    "warnings.filterwarnings(\"ignore\")"
   ]
  },
  {
   "cell_type": "code",
   "execution_count": 2,
   "id": "59420631",
   "metadata": {},
   "outputs": [],
   "source": [
    "df = pd.read_csv(\"loan_prediction.csv\")"
   ]
  },
  {
   "cell_type": "code",
   "execution_count": 3,
   "id": "15471e17",
   "metadata": {},
   "outputs": [
    {
     "data": {
      "text/html": [
       "<div>\n",
       "<style scoped>\n",
       "    .dataframe tbody tr th:only-of-type {\n",
       "        vertical-align: middle;\n",
       "    }\n",
       "\n",
       "    .dataframe tbody tr th {\n",
       "        vertical-align: top;\n",
       "    }\n",
       "\n",
       "    .dataframe thead th {\n",
       "        text-align: right;\n",
       "    }\n",
       "</style>\n",
       "<table border=\"1\" class=\"dataframe\">\n",
       "  <thead>\n",
       "    <tr style=\"text-align: right;\">\n",
       "      <th></th>\n",
       "      <th>Loan_ID</th>\n",
       "      <th>Gender</th>\n",
       "      <th>Married</th>\n",
       "      <th>Dependents</th>\n",
       "      <th>Education</th>\n",
       "      <th>Self_Employed</th>\n",
       "      <th>ApplicantIncome</th>\n",
       "      <th>CoapplicantIncome</th>\n",
       "      <th>LoanAmount</th>\n",
       "      <th>Loan_Amount_Term</th>\n",
       "      <th>Credit_History</th>\n",
       "      <th>Property_Area</th>\n",
       "      <th>Loan_Status</th>\n",
       "    </tr>\n",
       "  </thead>\n",
       "  <tbody>\n",
       "    <tr>\n",
       "      <th>0</th>\n",
       "      <td>LP001002</td>\n",
       "      <td>Male</td>\n",
       "      <td>No</td>\n",
       "      <td>0</td>\n",
       "      <td>Graduate</td>\n",
       "      <td>No</td>\n",
       "      <td>5849</td>\n",
       "      <td>0.0</td>\n",
       "      <td>NaN</td>\n",
       "      <td>360.0</td>\n",
       "      <td>1.0</td>\n",
       "      <td>Urban</td>\n",
       "      <td>Y</td>\n",
       "    </tr>\n",
       "    <tr>\n",
       "      <th>1</th>\n",
       "      <td>LP001003</td>\n",
       "      <td>Male</td>\n",
       "      <td>Yes</td>\n",
       "      <td>1</td>\n",
       "      <td>Graduate</td>\n",
       "      <td>No</td>\n",
       "      <td>4583</td>\n",
       "      <td>1508.0</td>\n",
       "      <td>128.0</td>\n",
       "      <td>360.0</td>\n",
       "      <td>1.0</td>\n",
       "      <td>Rural</td>\n",
       "      <td>N</td>\n",
       "    </tr>\n",
       "    <tr>\n",
       "      <th>2</th>\n",
       "      <td>LP001005</td>\n",
       "      <td>Male</td>\n",
       "      <td>Yes</td>\n",
       "      <td>0</td>\n",
       "      <td>Graduate</td>\n",
       "      <td>Yes</td>\n",
       "      <td>3000</td>\n",
       "      <td>0.0</td>\n",
       "      <td>66.0</td>\n",
       "      <td>360.0</td>\n",
       "      <td>1.0</td>\n",
       "      <td>Urban</td>\n",
       "      <td>Y</td>\n",
       "    </tr>\n",
       "    <tr>\n",
       "      <th>3</th>\n",
       "      <td>LP001006</td>\n",
       "      <td>Male</td>\n",
       "      <td>Yes</td>\n",
       "      <td>0</td>\n",
       "      <td>Not Graduate</td>\n",
       "      <td>No</td>\n",
       "      <td>2583</td>\n",
       "      <td>2358.0</td>\n",
       "      <td>120.0</td>\n",
       "      <td>360.0</td>\n",
       "      <td>1.0</td>\n",
       "      <td>Urban</td>\n",
       "      <td>Y</td>\n",
       "    </tr>\n",
       "    <tr>\n",
       "      <th>4</th>\n",
       "      <td>LP001008</td>\n",
       "      <td>Male</td>\n",
       "      <td>No</td>\n",
       "      <td>0</td>\n",
       "      <td>Graduate</td>\n",
       "      <td>No</td>\n",
       "      <td>6000</td>\n",
       "      <td>0.0</td>\n",
       "      <td>141.0</td>\n",
       "      <td>360.0</td>\n",
       "      <td>1.0</td>\n",
       "      <td>Urban</td>\n",
       "      <td>Y</td>\n",
       "    </tr>\n",
       "  </tbody>\n",
       "</table>\n",
       "</div>"
      ],
      "text/plain": [
       "    Loan_ID Gender Married Dependents     Education Self_Employed  \\\n",
       "0  LP001002   Male      No          0      Graduate            No   \n",
       "1  LP001003   Male     Yes          1      Graduate            No   \n",
       "2  LP001005   Male     Yes          0      Graduate           Yes   \n",
       "3  LP001006   Male     Yes          0  Not Graduate            No   \n",
       "4  LP001008   Male      No          0      Graduate            No   \n",
       "\n",
       "   ApplicantIncome  CoapplicantIncome  LoanAmount  Loan_Amount_Term  \\\n",
       "0             5849                0.0         NaN             360.0   \n",
       "1             4583             1508.0       128.0             360.0   \n",
       "2             3000                0.0        66.0             360.0   \n",
       "3             2583             2358.0       120.0             360.0   \n",
       "4             6000                0.0       141.0             360.0   \n",
       "\n",
       "   Credit_History Property_Area Loan_Status  \n",
       "0             1.0         Urban           Y  \n",
       "1             1.0         Rural           N  \n",
       "2             1.0         Urban           Y  \n",
       "3             1.0         Urban           Y  \n",
       "4             1.0         Urban           Y  "
      ]
     },
     "execution_count": 3,
     "metadata": {},
     "output_type": "execute_result"
    }
   ],
   "source": [
    "df.head()"
   ]
  },
  {
   "cell_type": "code",
   "execution_count": 4,
   "id": "3d2ffc75",
   "metadata": {},
   "outputs": [
    {
     "data": {
      "text/plain": [
       "(614, 13)"
      ]
     },
     "execution_count": 4,
     "metadata": {},
     "output_type": "execute_result"
    }
   ],
   "source": [
    "df.shape"
   ]
  },
  {
   "cell_type": "markdown",
   "id": "397c7aac",
   "metadata": {},
   "source": [
    "Removing irrelavent columns"
   ]
  },
  {
   "cell_type": "code",
   "execution_count": 5,
   "id": "5978c23f",
   "metadata": {},
   "outputs": [],
   "source": [
    "df.drop(['Loan_ID'],axis=1,inplace=True)"
   ]
  },
  {
   "cell_type": "code",
   "execution_count": 6,
   "id": "eb9a9073",
   "metadata": {},
   "outputs": [
    {
     "name": "stdout",
     "output_type": "stream",
     "text": [
      "<class 'pandas.core.frame.DataFrame'>\n",
      "RangeIndex: 614 entries, 0 to 613\n",
      "Data columns (total 12 columns):\n",
      " #   Column             Non-Null Count  Dtype  \n",
      "---  ------             --------------  -----  \n",
      " 0   Gender             601 non-null    object \n",
      " 1   Married            611 non-null    object \n",
      " 2   Dependents         599 non-null    object \n",
      " 3   Education          614 non-null    object \n",
      " 4   Self_Employed      582 non-null    object \n",
      " 5   ApplicantIncome    614 non-null    int64  \n",
      " 6   CoapplicantIncome  614 non-null    float64\n",
      " 7   LoanAmount         592 non-null    float64\n",
      " 8   Loan_Amount_Term   600 non-null    float64\n",
      " 9   Credit_History     564 non-null    float64\n",
      " 10  Property_Area      614 non-null    object \n",
      " 11  Loan_Status        614 non-null    object \n",
      "dtypes: float64(4), int64(1), object(7)\n",
      "memory usage: 57.7+ KB\n"
     ]
    }
   ],
   "source": [
    "df.info()"
   ]
  },
  {
   "cell_type": "code",
   "execution_count": 7,
   "id": "0f8c4ab0",
   "metadata": {},
   "outputs": [
    {
     "data": {
      "text/plain": [
       "(614, 12)"
      ]
     },
     "execution_count": 7,
     "metadata": {},
     "output_type": "execute_result"
    }
   ],
   "source": [
    "df.shape"
   ]
  },
  {
   "cell_type": "code",
   "execution_count": 8,
   "id": "697ba7c6",
   "metadata": {},
   "outputs": [
    {
     "name": "stdout",
     "output_type": "stream",
     "text": [
      "Gender               13\n",
      "Married               3\n",
      "Dependents           15\n",
      "Education             0\n",
      "Self_Employed        32\n",
      "ApplicantIncome       0\n",
      "CoapplicantIncome     0\n",
      "LoanAmount           22\n",
      "Loan_Amount_Term     14\n",
      "Credit_History       50\n",
      "Property_Area         0\n",
      "Loan_Status           0\n",
      "dtype: int64\n"
     ]
    }
   ],
   "source": [
    "print(df.isnull().sum())"
   ]
  },
  {
   "cell_type": "markdown",
   "id": "5cc56c9b",
   "metadata": {},
   "source": [
    "Replacing null values with mean and mode values"
   ]
  },
  {
   "cell_type": "code",
   "execution_count": 9,
   "id": "193cbe2c",
   "metadata": {},
   "outputs": [],
   "source": [
    "df['LoanAmount']=df['LoanAmount'].fillna(df['LoanAmount'].mean())\n",
    "df['Loan_Amount_Term']=df['Loan_Amount_Term'].fillna(df['Loan_Amount_Term'].mean())\n",
    "df['Credit_History']=df['Credit_History'].fillna(df['Credit_History'].mode())"
   ]
  },
  {
   "cell_type": "code",
   "execution_count": 10,
   "id": "00f3d744",
   "metadata": {},
   "outputs": [],
   "source": [
    "#Filling Null Values\n",
    "df['Dependents'].fillna(value=df['Dependents'].mode()[0],inplace=True)\n",
    "df['Gender'].fillna(value=df['Gender'].mode()[0],inplace=True)\n",
    "df['Married'].fillna(value=df['Married'].mode()[0],inplace=True)\n",
    "df['Self_Employed'].fillna(value=df['Self_Employed'].mode()[0],inplace=True)\n",
    "df['Credit_History'].fillna(value=df['Credit_History'].mode()[0],inplace=True)"
   ]
  },
  {
   "cell_type": "code",
   "execution_count": 11,
   "id": "1ae4dab7",
   "metadata": {},
   "outputs": [
    {
     "name": "stdout",
     "output_type": "stream",
     "text": [
      "Gender               0\n",
      "Married              0\n",
      "Dependents           0\n",
      "Education            0\n",
      "Self_Employed        0\n",
      "ApplicantIncome      0\n",
      "CoapplicantIncome    0\n",
      "LoanAmount           0\n",
      "Loan_Amount_Term     0\n",
      "Credit_History       0\n",
      "Property_Area        0\n",
      "Loan_Status          0\n",
      "dtype: int64\n"
     ]
    }
   ],
   "source": [
    "print(df.isnull().sum())"
   ]
  },
  {
   "cell_type": "code",
   "execution_count": 12,
   "id": "9c3e2e4d",
   "metadata": {},
   "outputs": [
    {
     "name": "stdout",
     "output_type": "stream",
     "text": [
      "<class 'pandas.core.frame.DataFrame'>\n",
      "RangeIndex: 614 entries, 0 to 613\n",
      "Data columns (total 12 columns):\n",
      " #   Column             Non-Null Count  Dtype  \n",
      "---  ------             --------------  -----  \n",
      " 0   Gender             614 non-null    object \n",
      " 1   Married            614 non-null    object \n",
      " 2   Dependents         614 non-null    object \n",
      " 3   Education          614 non-null    object \n",
      " 4   Self_Employed      614 non-null    object \n",
      " 5   ApplicantIncome    614 non-null    int64  \n",
      " 6   CoapplicantIncome  614 non-null    float64\n",
      " 7   LoanAmount         614 non-null    float64\n",
      " 8   Loan_Amount_Term   614 non-null    float64\n",
      " 9   Credit_History     614 non-null    float64\n",
      " 10  Property_Area      614 non-null    object \n",
      " 11  Loan_Status        614 non-null    object \n",
      "dtypes: float64(4), int64(1), object(7)\n",
      "memory usage: 57.7+ KB\n"
     ]
    }
   ],
   "source": [
    "df.info()"
   ]
  },
  {
   "cell_type": "markdown",
   "id": "1e1791fd",
   "metadata": {},
   "source": [
    "# EDA"
   ]
  },
  {
   "cell_type": "code",
   "execution_count": 13,
   "id": "b86dff60",
   "metadata": {},
   "outputs": [
    {
     "data": {
      "text/plain": [
       "<AxesSubplot:xlabel='Self_Employed', ylabel='count'>"
      ]
     },
     "execution_count": 13,
     "metadata": {},
     "output_type": "execute_result"
    },
    {
     "data": {
      "image/png": "[encoded data removed]",
      "text/plain": [
       "<Figure size 432x288 with 1 Axes>"
      ]
     },
     "metadata": {
      "needs_background": "light"
     },
     "output_type": "display_data"
    }
   ],
   "source": [
    "sns.countplot(x='Self_Employed',hue='Loan_Status',data=df)"
   ]
  },
  {
   "cell_type": "markdown",
   "id": "237d52d7",
   "metadata": {},
   "source": [
    "most of the data we have from not employed person Here we see if the person is not self employed there is high chances of approval"
   ]
  },
  {
   "cell_type": "code",
   "execution_count": 14,
   "id": "07eafdce",
   "metadata": {},
   "outputs": [
    {
     "data": {
      "text/plain": [
       "<AxesSubplot:xlabel='Loan_Amount_Term', ylabel='count'>"
      ]
     },
     "execution_count": 14,
     "metadata": {},
     "output_type": "execute_result"
    },
    {
     "data": {
      "image/png": "[encoded data removed]",
      "text/plain": [
       "<Figure size 432x288 with 1 Axes>"
      ]
     },
     "metadata": {
      "needs_background": "light"
     },
     "output_type": "display_data"
    }
   ],
   "source": [
    "sns.countplot(x='Loan_Amount_Term',hue='Loan_Status',data=df)"
   ]
  },
  {
   "cell_type": "markdown",
   "id": "462837df",
   "metadata": {},
   "source": [
    "Most of the people who applied for loan asked for 360 months of term more half are getting approved People those are taking loan for 480 months, most of them are getting approval"
   ]
  },
  {
   "cell_type": "code",
   "execution_count": 15,
   "id": "5804a7af",
   "metadata": {},
   "outputs": [
    {
     "data": {
      "text/plain": [
       "<AxesSubplot:xlabel='Credit_History', ylabel='count'>"
      ]
     },
     "execution_count": 15,
     "metadata": {},
     "output_type": "execute_result"
    },
    {
     "data": {
      "image/png": "[encoded data removed]",
      "text/plain": [
       "<Figure size 432x288 with 1 Axes>"
      ]
     },
     "metadata": {
      "needs_background": "light"
     },
     "output_type": "display_data"
    }
   ],
   "source": [
    "sns.countplot(x='Credit_History',hue='Loan_Status',data=df)"
   ]
  },
  {
   "cell_type": "code",
   "execution_count": 16,
   "id": "45ca9cc4",
   "metadata": {},
   "outputs": [
    {
     "data": {
      "text/plain": [
       "<AxesSubplot:xlabel='Dependents', ylabel='count'>"
      ]
     },
     "execution_count": 16,
     "metadata": {},
     "output_type": "execute_result"
    },
    {
     "data": {
      "image/png": "[encoded data removed]",
      "text/plain": [
       "<Figure size 432x288 with 1 Axes>"
      ]
     },
     "metadata": {
      "needs_background": "light"
     },
     "output_type": "display_data"
    }
   ],
   "source": [
    "sns.countplot(x='Dependents',hue='Loan_Status',data=df)"
   ]
  },
  {
   "cell_type": "markdown",
   "id": "788b43da",
   "metadata": {},
   "source": [
    "We can notice people those are not having dependents are getting chances of Loan approval"
   ]
  },
  {
   "cell_type": "code",
   "execution_count": 17,
   "id": "f2d71481",
   "metadata": {},
   "outputs": [
    {
     "data": {
      "text/plain": [
       "<AxesSubplot:xlabel='Property_Area', ylabel='count'>"
      ]
     },
     "execution_count": 17,
     "metadata": {},
     "output_type": "execute_result"
    },
    {
     "data": {
      "image/png": "[encoded data removed]",
      "text/plain": [
       "<Figure size 432x288 with 1 Axes>"
      ]
     },
     "metadata": {
      "needs_background": "light"
     },
     "output_type": "display_data"
    }
   ],
   "source": [
    "sns.countplot(x='Property_Area',hue='Loan_Status',data=df)"
   ]
  },
  {
   "cell_type": "code",
   "execution_count": 18,
   "id": "23b509ee",
   "metadata": {},
   "outputs": [
    {
     "data": {
      "text/plain": [
       "<AxesSubplot:xlabel='Loan_Status', ylabel='ApplicantIncome'>"
      ]
     },
     "execution_count": 18,
     "metadata": {},
     "output_type": "execute_result"
    },
    {
     "data": {
      "image/png": "[encoded data removed]",
      "text/plain": [
       "<Figure size 432x288 with 1 Axes>"
      ]
     },
     "metadata": {
      "needs_background": "light"
     },
     "output_type": "display_data"
    }
   ],
   "source": [
    "sns.barplot(y='ApplicantIncome',x='Loan_Status',data=df)"
   ]
  },
  {
   "cell_type": "code",
   "execution_count": 19,
   "id": "9d5f6f0c",
   "metadata": {},
   "outputs": [
    {
     "data": {
      "text/plain": [
       "<AxesSubplot:xlabel='Loan_Status', ylabel='CoapplicantIncome'>"
      ]
     },
     "execution_count": 19,
     "metadata": {},
     "output_type": "execute_result"
    },
    {
     "data": {
      "image/png": "[encoded data removed]",
      "text/plain": [
       "<Figure size 432x288 with 1 Axes>"
      ]
     },
     "metadata": {
      "needs_background": "light"
     },
     "output_type": "display_data"
    }
   ],
   "source": [
    "sns.barplot(y='CoapplicantIncome',x='Loan_Status',data=df)"
   ]
  },
  {
   "cell_type": "code",
   "execution_count": 20,
   "id": "725b4e35",
   "metadata": {},
   "outputs": [
    {
     "data": {
      "text/plain": [
       "<AxesSubplot:>"
      ]
     },
     "execution_count": 20,
     "metadata": {},
     "output_type": "execute_result"
    },
    {
     "data": {
      "image/png": "[encoded data removed]",
      "text/plain": [
       "<Figure size 432x288 with 1 Axes>"
      ]
     },
     "metadata": {
      "needs_background": "light"
     },
     "output_type": "display_data"
    }
   ],
   "source": [
    "df['LoanAmount'].hist(bins=50)"
   ]
  },
  {
   "cell_type": "code",
   "execution_count": 21,
   "id": "5ffe0a8c",
   "metadata": {},
   "outputs": [
    {
     "data": {
      "text/html": [
       "<div>\n",
       "<style scoped>\n",
       "    .dataframe tbody tr th:only-of-type {\n",
       "        vertical-align: middle;\n",
       "    }\n",
       "\n",
       "    .dataframe tbody tr th {\n",
       "        vertical-align: top;\n",
       "    }\n",
       "\n",
       "    .dataframe thead th {\n",
       "        text-align: right;\n",
       "    }\n",
       "</style>\n",
       "<table border=\"1\" class=\"dataframe\">\n",
       "  <thead>\n",
       "    <tr style=\"text-align: right;\">\n",
       "      <th></th>\n",
       "      <th>Gender</th>\n",
       "      <th>Married</th>\n",
       "      <th>Dependents</th>\n",
       "      <th>Education</th>\n",
       "      <th>Self_Employed</th>\n",
       "      <th>ApplicantIncome</th>\n",
       "      <th>CoapplicantIncome</th>\n",
       "      <th>LoanAmount</th>\n",
       "      <th>Loan_Amount_Term</th>\n",
       "      <th>Credit_History</th>\n",
       "      <th>Property_Area</th>\n",
       "      <th>Loan_Status</th>\n",
       "    </tr>\n",
       "  </thead>\n",
       "  <tbody>\n",
       "    <tr>\n",
       "      <th>Gender</th>\n",
       "      <td>1.000000</td>\n",
       "      <td>-0.364569</td>\n",
       "      <td>-0.172914</td>\n",
       "      <td>-0.045364</td>\n",
       "      <td>0.000525</td>\n",
       "      <td>0.005853</td>\n",
       "      <td>-0.172693</td>\n",
       "      <td>0.030239</td>\n",
       "      <td>-0.031319</td>\n",
       "      <td>0.009170</td>\n",
       "      <td>0.082045</td>\n",
       "      <td>0.017987</td>\n",
       "    </tr>\n",
       "    <tr>\n",
       "      <th>Married</th>\n",
       "      <td>-0.364569</td>\n",
       "      <td>1.000000</td>\n",
       "      <td>0.334216</td>\n",
       "      <td>0.012304</td>\n",
       "      <td>0.004489</td>\n",
       "      <td>-0.003163</td>\n",
       "      <td>0.233224</td>\n",
       "      <td>0.003281</td>\n",
       "      <td>0.028283</td>\n",
       "      <td>-0.010938</td>\n",
       "      <td>0.003071</td>\n",
       "      <td>-0.091478</td>\n",
       "    </tr>\n",
       "    <tr>\n",
       "      <th>Dependents</th>\n",
       "      <td>-0.172914</td>\n",
       "      <td>0.334216</td>\n",
       "      <td>1.000000</td>\n",
       "      <td>0.055752</td>\n",
       "      <td>0.056798</td>\n",
       "      <td>0.079403</td>\n",
       "      <td>-0.007295</td>\n",
       "      <td>0.053924</td>\n",
       "      <td>0.056024</td>\n",
       "      <td>0.040160</td>\n",
       "      <td>0.001781</td>\n",
       "      <td>-0.010118</td>\n",
       "    </tr>\n",
       "    <tr>\n",
       "      <th>Education</th>\n",
       "      <td>-0.045364</td>\n",
       "      <td>0.012304</td>\n",
       "      <td>0.055752</td>\n",
       "      <td>1.000000</td>\n",
       "      <td>-0.010383</td>\n",
       "      <td>0.073543</td>\n",
       "      <td>0.084689</td>\n",
       "      <td>-0.072995</td>\n",
       "      <td>0.078645</td>\n",
       "      <td>0.073658</td>\n",
       "      <td>-0.003592</td>\n",
       "      <td>0.085884</td>\n",
       "    </tr>\n",
       "    <tr>\n",
       "      <th>Self_Employed</th>\n",
       "      <td>0.000525</td>\n",
       "      <td>0.004489</td>\n",
       "      <td>0.056798</td>\n",
       "      <td>-0.010383</td>\n",
       "      <td>1.000000</td>\n",
       "      <td>0.005906</td>\n",
       "      <td>-0.080509</td>\n",
       "      <td>-0.008925</td>\n",
       "      <td>0.008366</td>\n",
       "      <td>0.001550</td>\n",
       "      <td>0.021996</td>\n",
       "      <td>0.003700</td>\n",
       "    </tr>\n",
       "    <tr>\n",
       "      <th>ApplicantIncome</th>\n",
       "      <td>0.005853</td>\n",
       "      <td>-0.003163</td>\n",
       "      <td>0.079403</td>\n",
       "      <td>0.073543</td>\n",
       "      <td>0.005906</td>\n",
       "      <td>1.000000</td>\n",
       "      <td>0.378095</td>\n",
       "      <td>0.365594</td>\n",
       "      <td>-0.013189</td>\n",
       "      <td>0.031103</td>\n",
       "      <td>0.078590</td>\n",
       "      <td>-0.018675</td>\n",
       "    </tr>\n",
       "    <tr>\n",
       "      <th>CoapplicantIncome</th>\n",
       "      <td>-0.172693</td>\n",
       "      <td>0.233224</td>\n",
       "      <td>-0.007295</td>\n",
       "      <td>0.084689</td>\n",
       "      <td>-0.080509</td>\n",
       "      <td>0.378095</td>\n",
       "      <td>1.000000</td>\n",
       "      <td>0.203701</td>\n",
       "      <td>0.060137</td>\n",
       "      <td>-0.029919</td>\n",
       "      <td>0.018346</td>\n",
       "      <td>-0.084419</td>\n",
       "    </tr>\n",
       "    <tr>\n",
       "      <th>LoanAmount</th>\n",
       "      <td>0.030239</td>\n",
       "      <td>0.003281</td>\n",
       "      <td>0.053924</td>\n",
       "      <td>-0.072995</td>\n",
       "      <td>-0.008925</td>\n",
       "      <td>0.365594</td>\n",
       "      <td>0.203701</td>\n",
       "      <td>1.000000</td>\n",
       "      <td>0.020456</td>\n",
       "      <td>0.032487</td>\n",
       "      <td>0.114591</td>\n",
       "      <td>0.040160</td>\n",
       "    </tr>\n",
       "    <tr>\n",
       "      <th>Loan_Amount_Term</th>\n",
       "      <td>-0.031319</td>\n",
       "      <td>0.028283</td>\n",
       "      <td>0.056024</td>\n",
       "      <td>0.078645</td>\n",
       "      <td>0.008366</td>\n",
       "      <td>-0.013189</td>\n",
       "      <td>0.060137</td>\n",
       "      <td>0.020456</td>\n",
       "      <td>1.000000</td>\n",
       "      <td>0.081384</td>\n",
       "      <td>-0.066941</td>\n",
       "      <td>0.085191</td>\n",
       "    </tr>\n",
       "    <tr>\n",
       "      <th>Credit_History</th>\n",
       "      <td>0.009170</td>\n",
       "      <td>-0.010938</td>\n",
       "      <td>0.040160</td>\n",
       "      <td>0.073658</td>\n",
       "      <td>0.001550</td>\n",
       "      <td>0.031103</td>\n",
       "      <td>-0.029919</td>\n",
       "      <td>0.032487</td>\n",
       "      <td>0.081384</td>\n",
       "      <td>1.000000</td>\n",
       "      <td>-0.030248</td>\n",
       "      <td>0.540556</td>\n",
       "    </tr>\n",
       "    <tr>\n",
       "      <th>Property_Area</th>\n",
       "      <td>0.082045</td>\n",
       "      <td>0.003071</td>\n",
       "      <td>0.001781</td>\n",
       "      <td>-0.003592</td>\n",
       "      <td>0.021996</td>\n",
       "      <td>0.078590</td>\n",
       "      <td>0.018346</td>\n",
       "      <td>0.114591</td>\n",
       "      <td>-0.066941</td>\n",
       "      <td>-0.030248</td>\n",
       "      <td>1.000000</td>\n",
       "      <td>-0.103253</td>\n",
       "    </tr>\n",
       "    <tr>\n",
       "      <th>Loan_Status</th>\n",
       "      <td>0.017987</td>\n",
       "      <td>-0.091478</td>\n",
       "      <td>-0.010118</td>\n",
       "      <td>0.085884</td>\n",
       "      <td>0.003700</td>\n",
       "      <td>-0.018675</td>\n",
       "      <td>-0.084419</td>\n",
       "      <td>0.040160</td>\n",
       "      <td>0.085191</td>\n",
       "      <td>0.540556</td>\n",
       "      <td>-0.103253</td>\n",
       "      <td>1.000000</td>\n",
       "    </tr>\n",
       "  </tbody>\n",
       "</table>\n",
       "</div>"
      ],
      "text/plain": [
       "                     Gender   Married  Dependents  Education  Self_Employed  \\\n",
       "Gender             1.000000 -0.364569   -0.172914  -0.045364       0.000525   \n",
       "Married           -0.364569  1.000000    0.334216   0.012304       0.004489   \n",
       "Dependents        -0.172914  0.334216    1.000000   0.055752       0.056798   \n",
       "Education         -0.045364  0.012304    0.055752   1.000000      -0.010383   \n",
       "Self_Employed      0.000525  0.004489    0.056798  -0.010383       1.000000   \n",
       "ApplicantIncome    0.005853 -0.003163    0.079403   0.073543       0.005906   \n",
       "CoapplicantIncome -0.172693  0.233224   -0.007295   0.084689      -0.080509   \n",
       "LoanAmount         0.030239  0.003281    0.053924  -0.072995      -0.008925   \n",
       "Loan_Amount_Term  -0.031319  0.028283    0.056024   0.078645       0.008366   \n",
       "Credit_History     0.009170 -0.010938    0.040160   0.073658       0.001550   \n",
       "Property_Area      0.082045  0.003071    0.001781  -0.003592       0.021996   \n",
       "Loan_Status        0.017987 -0.091478   -0.010118   0.085884       0.003700   \n",
       "\n",
       "                   ApplicantIncome  CoapplicantIncome  LoanAmount  \\\n",
       "Gender                    0.005853          -0.172693    0.030239   \n",
       "Married                  -0.003163           0.233224    0.003281   \n",
       "Dependents                0.079403          -0.007295    0.053924   \n",
       "Education                 0.073543           0.084689   -0.072995   \n",
       "Self_Employed             0.005906          -0.080509   -0.008925   \n",
       "ApplicantIncome           1.000000           0.378095    0.365594   \n",
       "CoapplicantIncome         0.378095           1.000000    0.203701   \n",
       "LoanAmount                0.365594           0.203701    1.000000   \n",
       "Loan_Amount_Term         -0.013189           0.060137    0.020456   \n",
       "Credit_History            0.031103          -0.029919    0.032487   \n",
       "Property_Area             0.078590           0.018346    0.114591   \n",
       "Loan_Status              -0.018675          -0.084419    0.040160   \n",
       "\n",
       "                   Loan_Amount_Term  Credit_History  Property_Area  \\\n",
       "Gender                    -0.031319        0.009170       0.082045   \n",
       "Married                    0.028283       -0.010938       0.003071   \n",
       "Dependents                 0.056024        0.040160       0.001781   \n",
       "Education                  0.078645        0.073658      -0.003592   \n",
       "Self_Employed              0.008366        0.001550       0.021996   \n",
       "ApplicantIncome           -0.013189        0.031103       0.078590   \n",
       "CoapplicantIncome          0.060137       -0.029919       0.018346   \n",
       "LoanAmount                 0.020456        0.032487       0.114591   \n",
       "Loan_Amount_Term           1.000000        0.081384      -0.066941   \n",
       "Credit_History             0.081384        1.000000      -0.030248   \n",
       "Property_Area             -0.066941       -0.030248       1.000000   \n",
       "Loan_Status                0.085191        0.540556      -0.103253   \n",
       "\n",
       "                   Loan_Status  \n",
       "Gender                0.017987  \n",
       "Married              -0.091478  \n",
       "Dependents           -0.010118  \n",
       "Education             0.085884  \n",
       "Self_Employed         0.003700  \n",
       "ApplicantIncome      -0.018675  \n",
       "CoapplicantIncome    -0.084419  \n",
       "LoanAmount            0.040160  \n",
       "Loan_Amount_Term      0.085191  \n",
       "Credit_History        0.540556  \n",
       "Property_Area        -0.103253  \n",
       "Loan_Status           1.000000  "
      ]
     },
     "execution_count": 21,
     "metadata": {},
     "output_type": "execute_result"
    }
   ],
   "source": [
    "df_corr=df.apply(lambda x : pd.factorize(x)[0]).corr(method='pearson', min_periods=1)\n",
    "df_corr"
   ]
  },
  {
   "cell_type": "code",
   "execution_count": 22,
   "id": "f4be24a5",
   "metadata": {},
   "outputs": [
    {
     "data": {
      "text/plain": [
       "<AxesSubplot:>"
      ]
     },
     "execution_count": 22,
     "metadata": {},
     "output_type": "execute_result"
    },
    {
     "data": {
      "image/png": "[encoded data removed]",
      "text/plain": [
       "<Figure size 1728x720 with 2 Axes>"
      ]
     },
     "metadata": {
      "needs_background": "light"
     },
     "output_type": "display_data"
    }
   ],
   "source": [
    "plt.figure(figsize=[24,10])\n",
    "sns.heatmap(df_corr)"
   ]
  },
  {
   "cell_type": "markdown",
   "id": "65e7d850",
   "metadata": {},
   "source": [
    "# Data pre-processing"
   ]
  },
  {
   "cell_type": "code",
   "execution_count": 23,
   "id": "c30f0e8b",
   "metadata": {},
   "outputs": [
    {
     "name": "stdout",
     "output_type": "stream",
     "text": [
      "Gender               0\n",
      "Married              0\n",
      "Dependents           0\n",
      "Education            0\n",
      "Self_Employed        0\n",
      "ApplicantIncome      0\n",
      "CoapplicantIncome    0\n",
      "LoanAmount           0\n",
      "Loan_Amount_Term     0\n",
      "Credit_History       0\n",
      "Property_Area        0\n",
      "Loan_Status          0\n",
      "dtype: int64\n"
     ]
    }
   ],
   "source": [
    "print(df.isnull().sum())"
   ]
  },
  {
   "cell_type": "markdown",
   "id": "b70cce75",
   "metadata": {},
   "source": [
    "# Encoding"
   ]
  },
  {
   "cell_type": "code",
   "execution_count": 24,
   "id": "df69e5ee",
   "metadata": {},
   "outputs": [],
   "source": [
    "from sklearn.preprocessing import LabelEncoder\n",
    "LE=LabelEncoder()\n",
    "df['Education']=LE.fit_transform(df['Education'])\n",
    "df['Gender']=LE.fit_transform(df['Gender'])\n",
    "df['Married']=LE.fit_transform(df['Married'])\n",
    "df['Dependents']=LE.fit_transform(df['Dependents'])\n",
    "df['Self_Employed']=LE.fit_transform(df['Self_Employed'])\n",
    "df['Property_Area']=LE.fit_transform(df['Property_Area'])\n",
    "df['Loan_Status']=LE.fit_transform(df['Loan_Status'])"
   ]
  },
  {
   "cell_type": "code",
   "execution_count": 25,
   "id": "a051e382",
   "metadata": {},
   "outputs": [
    {
     "data": {
      "image/png": "[encoded data removed]",
      "text/plain": [
       "<Figure size 1296x1080 with 12 Axes>"
      ]
     },
     "metadata": {
      "needs_background": "light"
     },
     "output_type": "display_data"
    }
   ],
   "source": [
    "plt.figure(figsize=(18,15))\n",
    "for i in enumerate(df.columns):\n",
    "    plt.subplot(8,4,i[0]+1)\n",
    "    sns.distplot(df[i[1]],color='b')"
   ]
  },
  {
   "cell_type": "code",
   "execution_count": 26,
   "id": "2449f75d",
   "metadata": {},
   "outputs": [
    {
     "data": {
      "image/png": "[encoded data removed]",
      "text/plain": [
       "<Figure size 1296x720 with 12 Axes>"
      ]
     },
     "metadata": {
      "needs_background": "light"
     },
     "output_type": "display_data"
    }
   ],
   "source": [
    "plt.figure(figsize=(18,10))\n",
    "for o in enumerate(df):\n",
    "    plt.subplot(9,4,o[0]+1)\n",
    "    sns.boxplot(df[o[1]])"
   ]
  },
  {
   "cell_type": "markdown",
   "id": "db420f69",
   "metadata": {},
   "source": [
    "# skewness and outlier removal"
   ]
  },
  {
   "cell_type": "code",
   "execution_count": 27,
   "id": "fec81936",
   "metadata": {},
   "outputs": [
    {
     "data": {
      "text/plain": [
       "Gender              -1.648795\n",
       "Married             -0.644850\n",
       "Dependents           1.015551\n",
       "Education            1.367622\n",
       "Self_Employed        2.159796\n",
       "ApplicantIncome      6.539513\n",
       "CoapplicantIncome    7.491531\n",
       "LoanAmount           2.726601\n",
       "Loan_Amount_Term    -2.389680\n",
       "Credit_History      -2.021971\n",
       "Property_Area       -0.066196\n",
       "Loan_Status         -0.809998\n",
       "dtype: float64"
      ]
     },
     "execution_count": 27,
     "metadata": {},
     "output_type": "execute_result"
    }
   ],
   "source": [
    "df.skew()"
   ]
  },
  {
   "cell_type": "code",
   "execution_count": 28,
   "id": "4a807a20",
   "metadata": {},
   "outputs": [
    {
     "name": "stdout",
     "output_type": "stream",
     "text": [
      "Old Shape:  (614, 12)\n",
      "       Gender   Married  Dependents  Education  Self_Employed  \\\n",
      "0    0.472343  1.372089    0.737806   0.528362       0.392601   \n",
      "1    0.472343  0.728816    0.253470   0.528362       0.392601   \n",
      "2    0.472343  0.728816    0.737806   0.528362       2.547117   \n",
      "3    0.472343  0.728816    0.737806   1.892641       0.392601   \n",
      "4    0.472343  1.372089    0.737806   0.528362       0.392601   \n",
      "..        ...       ...         ...        ...            ...   \n",
      "609  2.117107  1.372089    0.737806   0.528362       0.392601   \n",
      "610  0.472343  0.728816    2.236021   0.528362       0.392601   \n",
      "611  0.472343  0.728816    0.253470   0.528362       0.392601   \n",
      "612  0.472343  0.728816    1.244745   0.528362       0.392601   \n",
      "613  2.117107  1.372089    0.737806   0.528362       2.547117   \n",
      "\n",
      "     ApplicantIncome  CoapplicantIncome  LoanAmount  Loan_Amount_Term  \\\n",
      "0           0.072991           0.554487    0.000000          0.279851   \n",
      "1           0.134412           0.038732    0.219273          0.279851   \n",
      "2           0.393747           0.554487    0.957641          0.279851   \n",
      "3           0.462062           0.251980    0.314547          0.279851   \n",
      "4           0.097728           0.554487    0.064454          0.279851   \n",
      "..               ...                ...         ...               ...   \n",
      "609         0.410130           0.554487    0.898095          0.279851   \n",
      "610         0.212557           0.554487    1.267279          2.518655   \n",
      "611         0.437174           0.472404    1.269371          0.279851   \n",
      "612         0.357064           0.554487    0.483367          0.279851   \n",
      "613         0.134412           0.554487    0.159728          0.279851   \n",
      "\n",
      "     Credit_History  Property_Area  Loan_Status  \n",
      "0          0.411733       1.223298     0.674519  \n",
      "1          0.411733       1.318513     1.482537  \n",
      "2          0.411733       1.223298     0.674519  \n",
      "3          0.411733       1.223298     0.674519  \n",
      "4          0.411733       1.223298     0.674519  \n",
      "..              ...            ...          ...  \n",
      "609        0.411733       1.318513     0.674519  \n",
      "610        0.411733       1.318513     0.674519  \n",
      "611        0.411733       1.223298     0.674519  \n",
      "612        0.411733       1.223298     0.674519  \n",
      "613        2.428760       0.047607     1.482537  \n",
      "\n",
      "[614 rows x 12 columns]\n"
     ]
    }
   ],
   "source": [
    "from scipy import stats\n",
    "import numpy as np\n",
    "print(\"Old Shape: \", df.shape)   \n",
    "z = np.abs(stats.zscore(df))\n",
    "print(z)"
   ]
  },
  {
   "cell_type": "code",
   "execution_count": 29,
   "id": "40a858e3",
   "metadata": {},
   "outputs": [
    {
     "name": "stdout",
     "output_type": "stream",
     "text": [
      "(array([  9,  14,  68,  94, 126, 130, 133, 155, 155, 171, 171, 177, 177,\n",
      "       183, 185, 242, 262, 278, 308, 313, 333, 333, 369, 402, 409, 417,\n",
      "       432, 443, 487, 495, 497, 506, 523, 525, 546, 561, 575, 581, 585,\n",
      "       600, 604], dtype=int64), array([6, 8, 8, 8, 5, 7, 8, 5, 7, 5, 7, 6, 7, 5, 5, 8, 8, 7, 7, 8, 5, 7,\n",
      "       7, 6, 5, 6, 7, 5, 7, 8, 8, 7, 7, 7, 8, 7, 8, 6, 8, 6, 7],\n",
      "      dtype=int64))\n"
     ]
    }
   ],
   "source": [
    "threshold = 3\n",
    "print(np.where(z > 3))"
   ]
  },
  {
   "cell_type": "code",
   "execution_count": 30,
   "id": "e06d220d",
   "metadata": {},
   "outputs": [],
   "source": [
    "after_zscore = df[(z < 3).all(axis=1)]"
   ]
  },
  {
   "cell_type": "code",
   "execution_count": 31,
   "id": "42e53f16",
   "metadata": {},
   "outputs": [
    {
     "data": {
      "text/plain": [
       "(577, 12)"
      ]
     },
     "execution_count": 31,
     "metadata": {},
     "output_type": "execute_result"
    }
   ],
   "source": [
    "after_zscore.shape"
   ]
  },
  {
   "cell_type": "code",
   "execution_count": 32,
   "id": "9960fd6f",
   "metadata": {},
   "outputs": [
    {
     "data": {
      "text/plain": [
       "(614, 12)"
      ]
     },
     "execution_count": 32,
     "metadata": {},
     "output_type": "execute_result"
    }
   ],
   "source": [
    "df.shape"
   ]
  },
  {
   "cell_type": "code",
   "execution_count": 33,
   "id": "7068d11a",
   "metadata": {},
   "outputs": [],
   "source": [
    "df=after_zscore"
   ]
  },
  {
   "cell_type": "code",
   "execution_count": 34,
   "id": "d2f4e48e",
   "metadata": {},
   "outputs": [
    {
     "data": {
      "text/plain": [
       "Gender              -1.622920\n",
       "Married             -0.630211\n",
       "Dependents           1.052106\n",
       "Education            1.306588\n",
       "Self_Employed        2.252848\n",
       "ApplicantIncome      2.148522\n",
       "CoapplicantIncome    1.350517\n",
       "LoanAmount           1.113132\n",
       "Loan_Amount_Term    -2.077031\n",
       "Credit_History      -1.976043\n",
       "Property_Area       -0.055332\n",
       "Loan_Status         -0.822635\n",
       "dtype: float64"
      ]
     },
     "execution_count": 34,
     "metadata": {},
     "output_type": "execute_result"
    }
   ],
   "source": [
    "df.skew()"
   ]
  },
  {
   "cell_type": "code",
   "execution_count": 35,
   "id": "ec81b752",
   "metadata": {},
   "outputs": [
    {
     "data": {
      "text/html": [
       "<div>\n",
       "<style scoped>\n",
       "    .dataframe tbody tr th:only-of-type {\n",
       "        vertical-align: middle;\n",
       "    }\n",
       "\n",
       "    .dataframe tbody tr th {\n",
       "        vertical-align: top;\n",
       "    }\n",
       "\n",
       "    .dataframe thead th {\n",
       "        text-align: right;\n",
       "    }\n",
       "</style>\n",
       "<table border=\"1\" class=\"dataframe\">\n",
       "  <thead>\n",
       "    <tr style=\"text-align: right;\">\n",
       "      <th></th>\n",
       "      <th>Gender</th>\n",
       "      <th>Married</th>\n",
       "      <th>Dependents</th>\n",
       "      <th>Education</th>\n",
       "      <th>Self_Employed</th>\n",
       "      <th>ApplicantIncome</th>\n",
       "      <th>CoapplicantIncome</th>\n",
       "      <th>LoanAmount</th>\n",
       "      <th>Loan_Amount_Term</th>\n",
       "      <th>Credit_History</th>\n",
       "      <th>Property_Area</th>\n",
       "      <th>Loan_Status</th>\n",
       "    </tr>\n",
       "  </thead>\n",
       "  <tbody>\n",
       "    <tr>\n",
       "      <th>0</th>\n",
       "      <td>1.0</td>\n",
       "      <td>0.0</td>\n",
       "      <td>0.000000</td>\n",
       "      <td>0.0</td>\n",
       "      <td>0.0</td>\n",
       "      <td>76.478755</td>\n",
       "      <td>0.000000</td>\n",
       "      <td>12.100089</td>\n",
       "      <td>18.973666</td>\n",
       "      <td>1.0</td>\n",
       "      <td>1.414214</td>\n",
       "      <td>1.0</td>\n",
       "    </tr>\n",
       "    <tr>\n",
       "      <th>1</th>\n",
       "      <td>1.0</td>\n",
       "      <td>1.0</td>\n",
       "      <td>1.000000</td>\n",
       "      <td>0.0</td>\n",
       "      <td>0.0</td>\n",
       "      <td>67.697858</td>\n",
       "      <td>38.832976</td>\n",
       "      <td>11.313708</td>\n",
       "      <td>18.973666</td>\n",
       "      <td>1.0</td>\n",
       "      <td>0.000000</td>\n",
       "      <td>0.0</td>\n",
       "    </tr>\n",
       "    <tr>\n",
       "      <th>2</th>\n",
       "      <td>1.0</td>\n",
       "      <td>1.0</td>\n",
       "      <td>0.000000</td>\n",
       "      <td>0.0</td>\n",
       "      <td>1.0</td>\n",
       "      <td>54.772256</td>\n",
       "      <td>0.000000</td>\n",
       "      <td>8.124038</td>\n",
       "      <td>18.973666</td>\n",
       "      <td>1.0</td>\n",
       "      <td>1.414214</td>\n",
       "      <td>1.0</td>\n",
       "    </tr>\n",
       "    <tr>\n",
       "      <th>3</th>\n",
       "      <td>1.0</td>\n",
       "      <td>1.0</td>\n",
       "      <td>0.000000</td>\n",
       "      <td>1.0</td>\n",
       "      <td>0.0</td>\n",
       "      <td>50.823223</td>\n",
       "      <td>48.559242</td>\n",
       "      <td>10.954451</td>\n",
       "      <td>18.973666</td>\n",
       "      <td>1.0</td>\n",
       "      <td>1.414214</td>\n",
       "      <td>1.0</td>\n",
       "    </tr>\n",
       "    <tr>\n",
       "      <th>4</th>\n",
       "      <td>1.0</td>\n",
       "      <td>0.0</td>\n",
       "      <td>0.000000</td>\n",
       "      <td>0.0</td>\n",
       "      <td>0.0</td>\n",
       "      <td>77.459667</td>\n",
       "      <td>0.000000</td>\n",
       "      <td>11.874342</td>\n",
       "      <td>18.973666</td>\n",
       "      <td>1.0</td>\n",
       "      <td>1.414214</td>\n",
       "      <td>1.0</td>\n",
       "    </tr>\n",
       "    <tr>\n",
       "      <th>5</th>\n",
       "      <td>1.0</td>\n",
       "      <td>1.0</td>\n",
       "      <td>1.414214</td>\n",
       "      <td>0.0</td>\n",
       "      <td>1.0</td>\n",
       "      <td>73.600272</td>\n",
       "      <td>64.776539</td>\n",
       "      <td>16.340135</td>\n",
       "      <td>18.973666</td>\n",
       "      <td>1.0</td>\n",
       "      <td>1.414214</td>\n",
       "      <td>1.0</td>\n",
       "    </tr>\n",
       "    <tr>\n",
       "      <th>6</th>\n",
       "      <td>1.0</td>\n",
       "      <td>1.0</td>\n",
       "      <td>0.000000</td>\n",
       "      <td>1.0</td>\n",
       "      <td>0.0</td>\n",
       "      <td>48.301139</td>\n",
       "      <td>38.935845</td>\n",
       "      <td>9.746794</td>\n",
       "      <td>18.973666</td>\n",
       "      <td>1.0</td>\n",
       "      <td>1.414214</td>\n",
       "      <td>1.0</td>\n",
       "    </tr>\n",
       "    <tr>\n",
       "      <th>7</th>\n",
       "      <td>1.0</td>\n",
       "      <td>1.0</td>\n",
       "      <td>1.732051</td>\n",
       "      <td>0.0</td>\n",
       "      <td>0.0</td>\n",
       "      <td>55.099909</td>\n",
       "      <td>50.039984</td>\n",
       "      <td>12.569805</td>\n",
       "      <td>18.973666</td>\n",
       "      <td>0.0</td>\n",
       "      <td>1.000000</td>\n",
       "      <td>0.0</td>\n",
       "    </tr>\n",
       "    <tr>\n",
       "      <th>8</th>\n",
       "      <td>1.0</td>\n",
       "      <td>1.0</td>\n",
       "      <td>1.414214</td>\n",
       "      <td>0.0</td>\n",
       "      <td>0.0</td>\n",
       "      <td>63.292970</td>\n",
       "      <td>39.064050</td>\n",
       "      <td>12.961481</td>\n",
       "      <td>18.973666</td>\n",
       "      <td>1.0</td>\n",
       "      <td>1.414214</td>\n",
       "      <td>1.0</td>\n",
       "    </tr>\n",
       "    <tr>\n",
       "      <th>10</th>\n",
       "      <td>1.0</td>\n",
       "      <td>1.0</td>\n",
       "      <td>1.414214</td>\n",
       "      <td>0.0</td>\n",
       "      <td>0.0</td>\n",
       "      <td>56.568542</td>\n",
       "      <td>26.457513</td>\n",
       "      <td>8.366600</td>\n",
       "      <td>18.973666</td>\n",
       "      <td>1.0</td>\n",
       "      <td>1.414214</td>\n",
       "      <td>1.0</td>\n",
       "    </tr>\n",
       "    <tr>\n",
       "      <th>11</th>\n",
       "      <td>1.0</td>\n",
       "      <td>1.0</td>\n",
       "      <td>1.414214</td>\n",
       "      <td>0.0</td>\n",
       "      <td>0.0</td>\n",
       "      <td>50.000000</td>\n",
       "      <td>42.895221</td>\n",
       "      <td>10.440307</td>\n",
       "      <td>18.973666</td>\n",
       "      <td>1.0</td>\n",
       "      <td>1.414214</td>\n",
       "      <td>1.0</td>\n",
       "    </tr>\n",
       "    <tr>\n",
       "      <th>12</th>\n",
       "      <td>1.0</td>\n",
       "      <td>1.0</td>\n",
       "      <td>1.414214</td>\n",
       "      <td>0.0</td>\n",
       "      <td>0.0</td>\n",
       "      <td>55.434646</td>\n",
       "      <td>90.033327</td>\n",
       "      <td>14.142136</td>\n",
       "      <td>18.973666</td>\n",
       "      <td>1.0</td>\n",
       "      <td>1.414214</td>\n",
       "      <td>1.0</td>\n",
       "    </tr>\n",
       "    <tr>\n",
       "      <th>13</th>\n",
       "      <td>1.0</td>\n",
       "      <td>0.0</td>\n",
       "      <td>0.000000</td>\n",
       "      <td>0.0</td>\n",
       "      <td>0.0</td>\n",
       "      <td>43.046487</td>\n",
       "      <td>53.291650</td>\n",
       "      <td>10.677078</td>\n",
       "      <td>18.973666</td>\n",
       "      <td>1.0</td>\n",
       "      <td>0.000000</td>\n",
       "      <td>0.0</td>\n",
       "    </tr>\n",
       "    <tr>\n",
       "      <th>15</th>\n",
       "      <td>1.0</td>\n",
       "      <td>0.0</td>\n",
       "      <td>0.000000</td>\n",
       "      <td>0.0</td>\n",
       "      <td>0.0</td>\n",
       "      <td>70.356236</td>\n",
       "      <td>0.000000</td>\n",
       "      <td>11.180340</td>\n",
       "      <td>18.973666</td>\n",
       "      <td>1.0</td>\n",
       "      <td>1.414214</td>\n",
       "      <td>1.0</td>\n",
       "    </tr>\n",
       "    <tr>\n",
       "      <th>16</th>\n",
       "      <td>1.0</td>\n",
       "      <td>0.0</td>\n",
       "      <td>1.000000</td>\n",
       "      <td>1.0</td>\n",
       "      <td>0.0</td>\n",
       "      <td>59.966657</td>\n",
       "      <td>0.000000</td>\n",
       "      <td>10.000000</td>\n",
       "      <td>15.491933</td>\n",
       "      <td>1.0</td>\n",
       "      <td>1.414214</td>\n",
       "      <td>1.0</td>\n",
       "    </tr>\n",
       "  </tbody>\n",
       "</table>\n",
       "</div>"
      ],
      "text/plain": [
       "    Gender  Married  Dependents  Education  Self_Employed  ApplicantIncome  \\\n",
       "0      1.0      0.0    0.000000        0.0            0.0        76.478755   \n",
       "1      1.0      1.0    1.000000        0.0            0.0        67.697858   \n",
       "2      1.0      1.0    0.000000        0.0            1.0        54.772256   \n",
       "3      1.0      1.0    0.000000        1.0            0.0        50.823223   \n",
       "4      1.0      0.0    0.000000        0.0            0.0        77.459667   \n",
       "5      1.0      1.0    1.414214        0.0            1.0        73.600272   \n",
       "6      1.0      1.0    0.000000        1.0            0.0        48.301139   \n",
       "7      1.0      1.0    1.732051        0.0            0.0        55.099909   \n",
       "8      1.0      1.0    1.414214        0.0            0.0        63.292970   \n",
       "10     1.0      1.0    1.414214        0.0            0.0        56.568542   \n",
       "11     1.0      1.0    1.414214        0.0            0.0        50.000000   \n",
       "12     1.0      1.0    1.414214        0.0            0.0        55.434646   \n",
       "13     1.0      0.0    0.000000        0.0            0.0        43.046487   \n",
       "15     1.0      0.0    0.000000        0.0            0.0        70.356236   \n",
       "16     1.0      0.0    1.000000        1.0            0.0        59.966657   \n",
       "\n",
       "    CoapplicantIncome  LoanAmount  Loan_Amount_Term  Credit_History  \\\n",
       "0            0.000000   12.100089         18.973666             1.0   \n",
       "1           38.832976   11.313708         18.973666             1.0   \n",
       "2            0.000000    8.124038         18.973666             1.0   \n",
       "3           48.559242   10.954451         18.973666             1.0   \n",
       "4            0.000000   11.874342         18.973666             1.0   \n",
       "5           64.776539   16.340135         18.973666             1.0   \n",
       "6           38.935845    9.746794         18.973666             1.0   \n",
       "7           50.039984   12.569805         18.973666             0.0   \n",
       "8           39.064050   12.961481         18.973666             1.0   \n",
       "10          26.457513    8.366600         18.973666             1.0   \n",
       "11          42.895221   10.440307         18.973666             1.0   \n",
       "12          90.033327   14.142136         18.973666             1.0   \n",
       "13          53.291650   10.677078         18.973666             1.0   \n",
       "15           0.000000   11.180340         18.973666             1.0   \n",
       "16           0.000000   10.000000         15.491933             1.0   \n",
       "\n",
       "    Property_Area  Loan_Status  \n",
       "0        1.414214          1.0  \n",
       "1        0.000000          0.0  \n",
       "2        1.414214          1.0  \n",
       "3        1.414214          1.0  \n",
       "4        1.414214          1.0  \n",
       "5        1.414214          1.0  \n",
       "6        1.414214          1.0  \n",
       "7        1.000000          0.0  \n",
       "8        1.414214          1.0  \n",
       "10       1.414214          1.0  \n",
       "11       1.414214          1.0  \n",
       "12       1.414214          1.0  \n",
       "13       0.000000          0.0  \n",
       "15       1.414214          1.0  \n",
       "16       1.414214          1.0  "
      ]
     },
     "execution_count": 35,
     "metadata": {},
     "output_type": "execute_result"
    }
   ],
   "source": [
    "df1 = np.sqrt(df)\n",
    "\n",
    "df1.head(15)"
   ]
  },
  {
   "cell_type": "code",
   "execution_count": 36,
   "id": "d4280cc2",
   "metadata": {},
   "outputs": [
    {
     "data": {
      "text/plain": [
       "Gender              -1.622920\n",
       "Married             -0.630211\n",
       "Dependents           0.610338\n",
       "Education            1.306588\n",
       "Self_Employed        2.252848\n",
       "ApplicantIncome      1.208613\n",
       "CoapplicantIncome    0.207591\n",
       "LoanAmount           0.320372\n",
       "Loan_Amount_Term    -2.456414\n",
       "Credit_History      -1.976043\n",
       "Property_Area       -0.598165\n",
       "Loan_Status         -0.822635\n",
       "dtype: float64"
      ]
     },
     "execution_count": 36,
     "metadata": {},
     "output_type": "execute_result"
    }
   ],
   "source": [
    "df1.skew()"
   ]
  },
  {
   "cell_type": "code",
   "execution_count": 37,
   "id": "b9975059",
   "metadata": {},
   "outputs": [],
   "source": [
    "df=df1"
   ]
  },
  {
   "cell_type": "markdown",
   "id": "e1d77ec7",
   "metadata": {},
   "source": [
    "# Feature Engineering"
   ]
  },
  {
   "cell_type": "code",
   "execution_count": 38,
   "id": "0d31dcd9",
   "metadata": {},
   "outputs": [],
   "source": [
    "y = df['Loan_Status']\n",
    "x = df.drop('Loan_Status', axis = 1)"
   ]
  },
  {
   "cell_type": "code",
   "execution_count": 39,
   "id": "db733620",
   "metadata": {},
   "outputs": [],
   "source": [
    "from sklearn.model_selection import train_test_split\n",
    "from sklearn.linear_model import LogisticRegression\n",
    "from sklearn.metrics import classification_report"
   ]
  },
  {
   "cell_type": "code",
   "execution_count": 40,
   "id": "4eb933f4",
   "metadata": {},
   "outputs": [],
   "source": [
    "x_train, x_test, y_train, y_test = train_test_split(x,y,test_size=0.2,random_state=47)"
   ]
  },
  {
   "cell_type": "markdown",
   "id": "b8dc35f3",
   "metadata": {},
   "source": [
    "# Treating data imbalance"
   ]
  },
  {
   "cell_type": "code",
   "execution_count": 41,
   "id": "70d1c9b1",
   "metadata": {},
   "outputs": [
    {
     "name": "stdout",
     "output_type": "stream",
     "text": [
      "1.0    398\n",
      "0.0    179\n",
      "Name: Loan_Status, dtype: int64\n"
     ]
    }
   ],
   "source": [
    "print(df['Loan_Status'].value_counts())"
   ]
  },
  {
   "cell_type": "code",
   "execution_count": 42,
   "id": "c74097b3",
   "metadata": {},
   "outputs": [
    {
     "data": {
      "text/plain": [
       "1.0    325\n",
       "0.0    325\n",
       "Name: Loan_Status, dtype: int64"
      ]
     },
     "execution_count": 42,
     "metadata": {},
     "output_type": "execute_result"
    }
   ],
   "source": [
    "from sklearn.utils import resample\n",
    "X=pd.concat([x_train,y_train],axis=1)\n",
    "label0=X[X.Loan_Status==0]\n",
    "label1=X[X.Loan_Status==1]\n",
    "label_unsampled=resample(label0,replace=True,n_samples=len(label1),random_state=27)\n",
    "unsampled=pd.concat([label1,label_unsampled])\n",
    "unsampled.Loan_Status.value_counts()"
   ]
  },
  {
   "cell_type": "code",
   "execution_count": 43,
   "id": "05a86154",
   "metadata": {},
   "outputs": [],
   "source": [
    "x_train= unsampled.drop(columns='Loan_Status')\n",
    "y_train= unsampled['Loan_Status']"
   ]
  },
  {
   "cell_type": "markdown",
   "id": "647f353b",
   "metadata": {},
   "source": [
    "# scaling"
   ]
  },
  {
   "cell_type": "code",
   "execution_count": 44,
   "id": "6c39f066",
   "metadata": {},
   "outputs": [],
   "source": [
    "# data normalization with sklearn\n",
    "from sklearn.preprocessing import MinMaxScaler\n",
    "\n",
    "# fit scaler on training data\n",
    "norm = MinMaxScaler().fit(x_train)\n",
    "\n",
    "# transform training data\n",
    "x_train_norm = norm.transform(x_train)\n",
    "\n",
    "# transform testing dataabs\n",
    "x_test_norm = norm.transform(x_test)"
   ]
  },
  {
   "cell_type": "code",
   "execution_count": 45,
   "id": "bd04e0e8",
   "metadata": {},
   "outputs": [],
   "source": [
    "x_test=pd.DataFrame(x_test_norm)\n",
    "x_train=pd.DataFrame(x_train_norm)"
   ]
  },
  {
   "cell_type": "code",
   "execution_count": 46,
   "id": "fe4f4727",
   "metadata": {},
   "outputs": [
    {
     "data": {
      "text/html": [
       "<div>\n",
       "<style scoped>\n",
       "    .dataframe tbody tr th:only-of-type {\n",
       "        vertical-align: middle;\n",
       "    }\n",
       "\n",
       "    .dataframe tbody tr th {\n",
       "        vertical-align: top;\n",
       "    }\n",
       "\n",
       "    .dataframe thead th {\n",
       "        text-align: right;\n",
       "    }\n",
       "</style>\n",
       "<table border=\"1\" class=\"dataframe\">\n",
       "  <thead>\n",
       "    <tr style=\"text-align: right;\">\n",
       "      <th></th>\n",
       "      <th>0</th>\n",
       "      <th>1</th>\n",
       "      <th>2</th>\n",
       "      <th>3</th>\n",
       "      <th>4</th>\n",
       "      <th>5</th>\n",
       "      <th>6</th>\n",
       "      <th>7</th>\n",
       "      <th>8</th>\n",
       "      <th>9</th>\n",
       "      <th>10</th>\n",
       "    </tr>\n",
       "  </thead>\n",
       "  <tbody>\n",
       "    <tr>\n",
       "      <th>count</th>\n",
       "      <td>650.000000</td>\n",
       "      <td>650.000000</td>\n",
       "      <td>650.000000</td>\n",
       "      <td>650.000000</td>\n",
       "      <td>650.000000</td>\n",
       "      <td>650.000000</td>\n",
       "      <td>650.000000</td>\n",
       "      <td>650.000000</td>\n",
       "      <td>650.000000</td>\n",
       "      <td>650.000000</td>\n",
       "      <td>650.000000</td>\n",
       "    </tr>\n",
       "    <tr>\n",
       "      <th>mean</th>\n",
       "      <td>0.823077</td>\n",
       "      <td>0.667692</td>\n",
       "      <td>0.302322</td>\n",
       "      <td>0.243077</td>\n",
       "      <td>0.156923</td>\n",
       "      <td>0.435810</td>\n",
       "      <td>0.299996</td>\n",
       "      <td>0.520306</td>\n",
       "      <td>0.586315</td>\n",
       "      <td>0.744615</td>\n",
       "      <td>0.574900</td>\n",
       "    </tr>\n",
       "    <tr>\n",
       "      <th>std</th>\n",
       "      <td>0.381897</td>\n",
       "      <td>0.471403</td>\n",
       "      <td>0.377713</td>\n",
       "      <td>0.429272</td>\n",
       "      <td>0.364008</td>\n",
       "      <td>0.153077</td>\n",
       "      <td>0.281188</td>\n",
       "      <td>0.144931</td>\n",
       "      <td>0.208417</td>\n",
       "      <td>0.436413</td>\n",
       "      <td>0.416658</td>\n",
       "    </tr>\n",
       "    <tr>\n",
       "      <th>min</th>\n",
       "      <td>0.000000</td>\n",
       "      <td>0.000000</td>\n",
       "      <td>0.000000</td>\n",
       "      <td>0.000000</td>\n",
       "      <td>0.000000</td>\n",
       "      <td>0.000000</td>\n",
       "      <td>0.000000</td>\n",
       "      <td>0.000000</td>\n",
       "      <td>0.000000</td>\n",
       "      <td>0.000000</td>\n",
       "      <td>0.000000</td>\n",
       "    </tr>\n",
       "    <tr>\n",
       "      <th>25%</th>\n",
       "      <td>1.000000</td>\n",
       "      <td>0.000000</td>\n",
       "      <td>0.000000</td>\n",
       "      <td>0.000000</td>\n",
       "      <td>0.000000</td>\n",
       "      <td>0.330779</td>\n",
       "      <td>0.000000</td>\n",
       "      <td>0.439380</td>\n",
       "      <td>0.654373</td>\n",
       "      <td>0.000000</td>\n",
       "      <td>0.000000</td>\n",
       "    </tr>\n",
       "    <tr>\n",
       "      <th>50%</th>\n",
       "      <td>1.000000</td>\n",
       "      <td>1.000000</td>\n",
       "      <td>0.000000</td>\n",
       "      <td>0.000000</td>\n",
       "      <td>0.000000</td>\n",
       "      <td>0.399818</td>\n",
       "      <td>0.388146</td>\n",
       "      <td>0.513371</td>\n",
       "      <td>0.654373</td>\n",
       "      <td>1.000000</td>\n",
       "      <td>0.707107</td>\n",
       "    </tr>\n",
       "    <tr>\n",
       "      <th>75%</th>\n",
       "      <td>1.000000</td>\n",
       "      <td>1.000000</td>\n",
       "      <td>0.577350</td>\n",
       "      <td>0.000000</td>\n",
       "      <td>0.000000</td>\n",
       "      <td>0.516261</td>\n",
       "      <td>0.518397</td>\n",
       "      <td>0.595135</td>\n",
       "      <td>0.654373</td>\n",
       "      <td>1.000000</td>\n",
       "      <td>1.000000</td>\n",
       "    </tr>\n",
       "    <tr>\n",
       "      <th>max</th>\n",
       "      <td>1.000000</td>\n",
       "      <td>1.000000</td>\n",
       "      <td>1.000000</td>\n",
       "      <td>1.000000</td>\n",
       "      <td>1.000000</td>\n",
       "      <td>1.000000</td>\n",
       "      <td>1.000000</td>\n",
       "      <td>1.000000</td>\n",
       "      <td>1.000000</td>\n",
       "      <td>1.000000</td>\n",
       "      <td>1.000000</td>\n",
       "    </tr>\n",
       "  </tbody>\n",
       "</table>\n",
       "</div>"
      ],
      "text/plain": [
       "               0           1           2           3           4           5   \\\n",
       "count  650.000000  650.000000  650.000000  650.000000  650.000000  650.000000   \n",
       "mean     0.823077    0.667692    0.302322    0.243077    0.156923    0.435810   \n",
       "std      0.381897    0.471403    0.377713    0.429272    0.364008    0.153077   \n",
       "min      0.000000    0.000000    0.000000    0.000000    0.000000    0.000000   \n",
       "25%      1.000000    0.000000    0.000000    0.000000    0.000000    0.330779   \n",
       "50%      1.000000    1.000000    0.000000    0.000000    0.000000    0.399818   \n",
       "75%      1.000000    1.000000    0.577350    0.000000    0.000000    0.516261   \n",
       "max      1.000000    1.000000    1.000000    1.000000    1.000000    1.000000   \n",
       "\n",
       "               6           7           8           9           10  \n",
       "count  650.000000  650.000000  650.000000  650.000000  650.000000  \n",
       "mean     0.299996    0.520306    0.586315    0.744615    0.574900  \n",
       "std      0.281188    0.144931    0.208417    0.436413    0.416658  \n",
       "min      0.000000    0.000000    0.000000    0.000000    0.000000  \n",
       "25%      0.000000    0.439380    0.654373    0.000000    0.000000  \n",
       "50%      0.388146    0.513371    0.654373    1.000000    0.707107  \n",
       "75%      0.518397    0.595135    0.654373    1.000000    1.000000  \n",
       "max      1.000000    1.000000    1.000000    1.000000    1.000000  "
      ]
     },
     "execution_count": 46,
     "metadata": {},
     "output_type": "execute_result"
    }
   ],
   "source": [
    "x_train.describe()"
   ]
  },
  {
   "cell_type": "markdown",
   "id": "6774c219",
   "metadata": {},
   "source": [
    "# Model construction"
   ]
  },
  {
   "cell_type": "code",
   "execution_count": 47,
   "id": "8ddbd02f",
   "metadata": {},
   "outputs": [],
   "source": [
    "from sklearn.model_selection import train_test_split\n",
    "from sklearn.metrics import classification_report, confusion_matrix\n",
    "from sklearn.ensemble import RandomForestClassifier\n",
    "from sklearn.metrics import accuracy_score,confusion_matrix,classification_report"
   ]
  },
  {
   "cell_type": "markdown",
   "id": "9948e0ff",
   "metadata": {},
   "source": [
    "# SVC"
   ]
  },
  {
   "cell_type": "code",
   "execution_count": 48,
   "id": "dd3116a1",
   "metadata": {},
   "outputs": [
    {
     "name": "stdout",
     "output_type": "stream",
     "text": [
      "0.7758620689655172\n",
      "[[20 23]\n",
      " [ 3 70]]\n",
      "              precision    recall  f1-score   support\n",
      "\n",
      "         0.0       0.87      0.47      0.61        43\n",
      "         1.0       0.75      0.96      0.84        73\n",
      "\n",
      "    accuracy                           0.78       116\n",
      "   macro avg       0.81      0.71      0.72       116\n",
      "weighted avg       0.80      0.78      0.76       116\n",
      "\n"
     ]
    }
   ],
   "source": [
    "from sklearn.svm import SVC\n",
    "from sklearn.model_selection import cross_val_score\n",
    "from sklearn import svm\n",
    "from sklearn.svm import LinearSVC\n",
    "svc=SVC()\n",
    "svc.fit(x_train,y_train)\n",
    "svc.score(x_train,y_train)\n",
    "predsvc=svc.predict(x_test)\n",
    "svc_acc=accuracy_score(y_test,predsvc)\n",
    "print(svc_acc)\n",
    "print(confusion_matrix(y_test,predsvc))\n",
    "print(classification_report(y_test,predsvc))"
   ]
  },
  {
   "cell_type": "code",
   "execution_count": 49,
   "id": "8a2015f1",
   "metadata": {},
   "outputs": [
    {
     "data": {
      "text/plain": [
       "0.6897761645493043"
      ]
     },
     "execution_count": 49,
     "metadata": {},
     "output_type": "execute_result"
    }
   ],
   "source": [
    "svc_cv=cross_val_score(svc,x,y,scoring='accuracy', cv = 10).mean()\n",
    "svc_cv"
   ]
  },
  {
   "cell_type": "markdown",
   "id": "8ff790a3",
   "metadata": {},
   "source": [
    "# RandomForestClassifier"
   ]
  },
  {
   "cell_type": "code",
   "execution_count": 50,
   "id": "0000cd81",
   "metadata": {},
   "outputs": [
    {
     "name": "stdout",
     "output_type": "stream",
     "text": [
      "              precision    recall  f1-score   support\n",
      "\n",
      "         0.0       0.82      0.53      0.65        43\n",
      "         1.0       0.77      0.93      0.84        73\n",
      "\n",
      "    accuracy                           0.78       116\n",
      "   macro avg       0.80      0.73      0.75       116\n",
      "weighted avg       0.79      0.78      0.77       116\n",
      "\n"
     ]
    }
   ],
   "source": [
    "clf= RandomForestClassifier().fit(x_train, y_train)\n",
    "predRFC= clf.predict(x_test)\n",
    "randomforest_accu=accuracy_score(y_test,predRFC)\n",
    "randomforest_accu\n",
    "#print(confusion_matrix(y_test, predRFC))\n",
    "print(classification_report(y_test, predRFC))"
   ]
  },
  {
   "cell_type": "code",
   "execution_count": 51,
   "id": "f4f50f1c",
   "metadata": {},
   "outputs": [
    {
     "data": {
      "text/plain": [
       "0.7844827586206896"
      ]
     },
     "execution_count": 51,
     "metadata": {},
     "output_type": "execute_result"
    }
   ],
   "source": [
    "randomforest_accu"
   ]
  },
  {
   "cell_type": "code",
   "execution_count": 52,
   "id": "92eb0b75",
   "metadata": {},
   "outputs": [
    {
     "data": {
      "text/plain": [
       "0.9138461538461538"
      ]
     },
     "execution_count": 52,
     "metadata": {},
     "output_type": "execute_result"
    }
   ],
   "source": [
    "from sklearn.model_selection import cross_val_score\n",
    "randomforest_cv= cross_val_score(clf,x_train,y_train,scoring='accuracy', cv = 5).mean()\n",
    "randomforest_cv"
   ]
  },
  {
   "cell_type": "markdown",
   "id": "c190ec2c",
   "metadata": {},
   "source": [
    "# GaussianNB"
   ]
  },
  {
   "cell_type": "code",
   "execution_count": 53,
   "id": "5a4e7778",
   "metadata": {},
   "outputs": [
    {
     "name": "stdout",
     "output_type": "stream",
     "text": [
      "0.7931034482758621\n"
     ]
    },
    {
     "data": {
      "text/html": [
       "<div>\n",
       "<style scoped>\n",
       "    .dataframe tbody tr th:only-of-type {\n",
       "        vertical-align: middle;\n",
       "    }\n",
       "\n",
       "    .dataframe tbody tr th {\n",
       "        vertical-align: top;\n",
       "    }\n",
       "\n",
       "    .dataframe thead th {\n",
       "        text-align: right;\n",
       "    }\n",
       "</style>\n",
       "<table border=\"1\" class=\"dataframe\">\n",
       "  <thead>\n",
       "    <tr style=\"text-align: right;\">\n",
       "      <th></th>\n",
       "      <th>precision</th>\n",
       "      <th>recall</th>\n",
       "      <th>f1-score</th>\n",
       "      <th>support</th>\n",
       "    </tr>\n",
       "  </thead>\n",
       "  <tbody>\n",
       "    <tr>\n",
       "      <th>0.0</th>\n",
       "      <td>0.913043</td>\n",
       "      <td>0.488372</td>\n",
       "      <td>0.636364</td>\n",
       "      <td>43.000000</td>\n",
       "    </tr>\n",
       "    <tr>\n",
       "      <th>1.0</th>\n",
       "      <td>0.763441</td>\n",
       "      <td>0.972603</td>\n",
       "      <td>0.855422</td>\n",
       "      <td>73.000000</td>\n",
       "    </tr>\n",
       "    <tr>\n",
       "      <th>accuracy</th>\n",
       "      <td>0.793103</td>\n",
       "      <td>0.793103</td>\n",
       "      <td>0.793103</td>\n",
       "      <td>0.793103</td>\n",
       "    </tr>\n",
       "    <tr>\n",
       "      <th>macro avg</th>\n",
       "      <td>0.838242</td>\n",
       "      <td>0.730487</td>\n",
       "      <td>0.745893</td>\n",
       "      <td>116.000000</td>\n",
       "    </tr>\n",
       "    <tr>\n",
       "      <th>weighted avg</th>\n",
       "      <td>0.818897</td>\n",
       "      <td>0.793103</td>\n",
       "      <td>0.774219</td>\n",
       "      <td>116.000000</td>\n",
       "    </tr>\n",
       "  </tbody>\n",
       "</table>\n",
       "</div>"
      ],
      "text/plain": [
       "              precision    recall  f1-score     support\n",
       "0.0            0.913043  0.488372  0.636364   43.000000\n",
       "1.0            0.763441  0.972603  0.855422   73.000000\n",
       "accuracy       0.793103  0.793103  0.793103    0.793103\n",
       "macro avg      0.838242  0.730487  0.745893  116.000000\n",
       "weighted avg   0.818897  0.793103  0.774219  116.000000"
      ]
     },
     "execution_count": 53,
     "metadata": {},
     "output_type": "execute_result"
    }
   ],
   "source": [
    "from sklearn.naive_bayes import GaussianNB\n",
    "GNB = GaussianNB()\n",
    "\n",
    "GNB.fit(x_train,y_train)\n",
    "\n",
    "predGNB = GNB.predict(x_test)\n",
    "\n",
    "reportGNB = classification_report(y_test, predGNB, output_dict = True)\n",
    "  \n",
    "crGNB = pd.DataFrame(reportGNB).transpose()\n",
    "gnb_acc=accuracy_score(y_test,predGNB)\n",
    "print(gnb_acc)\n",
    "crGNB"
   ]
  },
  {
   "cell_type": "code",
   "execution_count": 54,
   "id": "bc91f35d",
   "metadata": {},
   "outputs": [
    {
     "data": {
      "text/plain": [
       "0.814670296430732"
      ]
     },
     "execution_count": 54,
     "metadata": {},
     "output_type": "execute_result"
    }
   ],
   "source": [
    "gnb_cv=cross_val_score(GNB,x,y,scoring='accuracy', cv = 10).mean()\n",
    "gnb_cv"
   ]
  },
  {
   "cell_type": "markdown",
   "id": "1b58c31f",
   "metadata": {},
   "source": [
    "# KNeighborsClassifier"
   ]
  },
  {
   "cell_type": "code",
   "execution_count": 55,
   "id": "e4f5421c",
   "metadata": {},
   "outputs": [
    {
     "name": "stdout",
     "output_type": "stream",
     "text": [
      "0.7327586206896551\n"
     ]
    },
    {
     "data": {
      "text/html": [
       "<div>\n",
       "<style scoped>\n",
       "    .dataframe tbody tr th:only-of-type {\n",
       "        vertical-align: middle;\n",
       "    }\n",
       "\n",
       "    .dataframe tbody tr th {\n",
       "        vertical-align: top;\n",
       "    }\n",
       "\n",
       "    .dataframe thead th {\n",
       "        text-align: right;\n",
       "    }\n",
       "</style>\n",
       "<table border=\"1\" class=\"dataframe\">\n",
       "  <thead>\n",
       "    <tr style=\"text-align: right;\">\n",
       "      <th></th>\n",
       "      <th>precision</th>\n",
       "      <th>recall</th>\n",
       "      <th>f1-score</th>\n",
       "      <th>support</th>\n",
       "    </tr>\n",
       "  </thead>\n",
       "  <tbody>\n",
       "    <tr>\n",
       "      <th>0.0</th>\n",
       "      <td>0.642857</td>\n",
       "      <td>0.627907</td>\n",
       "      <td>0.635294</td>\n",
       "      <td>43.000000</td>\n",
       "    </tr>\n",
       "    <tr>\n",
       "      <th>1.0</th>\n",
       "      <td>0.783784</td>\n",
       "      <td>0.794521</td>\n",
       "      <td>0.789116</td>\n",
       "      <td>73.000000</td>\n",
       "    </tr>\n",
       "    <tr>\n",
       "      <th>accuracy</th>\n",
       "      <td>0.732759</td>\n",
       "      <td>0.732759</td>\n",
       "      <td>0.732759</td>\n",
       "      <td>0.732759</td>\n",
       "    </tr>\n",
       "    <tr>\n",
       "      <th>macro avg</th>\n",
       "      <td>0.713320</td>\n",
       "      <td>0.711214</td>\n",
       "      <td>0.712205</td>\n",
       "      <td>116.000000</td>\n",
       "    </tr>\n",
       "    <tr>\n",
       "      <th>weighted avg</th>\n",
       "      <td>0.731544</td>\n",
       "      <td>0.732759</td>\n",
       "      <td>0.732096</td>\n",
       "      <td>116.000000</td>\n",
       "    </tr>\n",
       "  </tbody>\n",
       "</table>\n",
       "</div>"
      ],
      "text/plain": [
       "              precision    recall  f1-score     support\n",
       "0.0            0.642857  0.627907  0.635294   43.000000\n",
       "1.0            0.783784  0.794521  0.789116   73.000000\n",
       "accuracy       0.732759  0.732759  0.732759    0.732759\n",
       "macro avg      0.713320  0.711214  0.712205  116.000000\n",
       "weighted avg   0.731544  0.732759  0.732096  116.000000"
      ]
     },
     "execution_count": 55,
     "metadata": {},
     "output_type": "execute_result"
    }
   ],
   "source": [
    "from sklearn.neighbors import KNeighborsClassifier\n",
    "KNN = KNeighborsClassifier()\n",
    "\n",
    "KNN.fit(x_train,y_train)\n",
    "\n",
    "predKNN = KNN.predict(x_test)\n",
    "\n",
    "reportKNN = classification_report(y_test,predKNN, output_dict = True)\n",
    "\n",
    "crKNN = pd.DataFrame(reportKNN).transpose()\n",
    "knn_acc=accuracy_score(y_test,predKNN)\n",
    "print(knn_acc)\n",
    "crKNN"
   ]
  },
  {
   "cell_type": "code",
   "execution_count": 56,
   "id": "2863d9a7",
   "metadata": {},
   "outputs": [
    {
     "data": {
      "text/plain": [
       "0.6516938898971567"
      ]
     },
     "execution_count": 56,
     "metadata": {},
     "output_type": "execute_result"
    }
   ],
   "source": [
    "knn_cv=cross_val_score(KNN,x,y,scoring='accuracy', cv = 10).mean()\n",
    "knn_cv"
   ]
  },
  {
   "cell_type": "markdown",
   "id": "b0d11233",
   "metadata": {},
   "source": [
    "# DecisionTreeClassifier"
   ]
  },
  {
   "cell_type": "code",
   "execution_count": 57,
   "id": "9b9bfa66",
   "metadata": {},
   "outputs": [
    {
     "name": "stdout",
     "output_type": "stream",
     "text": [
      "0.7413793103448276\n"
     ]
    },
    {
     "data": {
      "text/html": [
       "<div>\n",
       "<style scoped>\n",
       "    .dataframe tbody tr th:only-of-type {\n",
       "        vertical-align: middle;\n",
       "    }\n",
       "\n",
       "    .dataframe tbody tr th {\n",
       "        vertical-align: top;\n",
       "    }\n",
       "\n",
       "    .dataframe thead th {\n",
       "        text-align: right;\n",
       "    }\n",
       "</style>\n",
       "<table border=\"1\" class=\"dataframe\">\n",
       "  <thead>\n",
       "    <tr style=\"text-align: right;\">\n",
       "      <th></th>\n",
       "      <th>precision</th>\n",
       "      <th>recall</th>\n",
       "      <th>f1-score</th>\n",
       "      <th>support</th>\n",
       "    </tr>\n",
       "  </thead>\n",
       "  <tbody>\n",
       "    <tr>\n",
       "      <th>0.0</th>\n",
       "      <td>0.666667</td>\n",
       "      <td>0.604651</td>\n",
       "      <td>0.634146</td>\n",
       "      <td>43.000000</td>\n",
       "    </tr>\n",
       "    <tr>\n",
       "      <th>1.0</th>\n",
       "      <td>0.779221</td>\n",
       "      <td>0.821918</td>\n",
       "      <td>0.800000</td>\n",
       "      <td>73.000000</td>\n",
       "    </tr>\n",
       "    <tr>\n",
       "      <th>accuracy</th>\n",
       "      <td>0.741379</td>\n",
       "      <td>0.741379</td>\n",
       "      <td>0.741379</td>\n",
       "      <td>0.741379</td>\n",
       "    </tr>\n",
       "    <tr>\n",
       "      <th>macro avg</th>\n",
       "      <td>0.722944</td>\n",
       "      <td>0.713284</td>\n",
       "      <td>0.717073</td>\n",
       "      <td>116.000000</td>\n",
       "    </tr>\n",
       "    <tr>\n",
       "      <th>weighted avg</th>\n",
       "      <td>0.737498</td>\n",
       "      <td>0.741379</td>\n",
       "      <td>0.738520</td>\n",
       "      <td>116.000000</td>\n",
       "    </tr>\n",
       "  </tbody>\n",
       "</table>\n",
       "</div>"
      ],
      "text/plain": [
       "              precision    recall  f1-score     support\n",
       "0.0            0.666667  0.604651  0.634146   43.000000\n",
       "1.0            0.779221  0.821918  0.800000   73.000000\n",
       "accuracy       0.741379  0.741379  0.741379    0.741379\n",
       "macro avg      0.722944  0.713284  0.717073  116.000000\n",
       "weighted avg   0.737498  0.741379  0.738520  116.000000"
      ]
     },
     "execution_count": 57,
     "metadata": {},
     "output_type": "execute_result"
    }
   ],
   "source": [
    "from sklearn.tree import DecisionTreeClassifier\n",
    "DTC = DecisionTreeClassifier()\n",
    "\n",
    "DTC.fit(x_train,y_train)\n",
    "\n",
    "predDTC = DTC.predict(x_test)\n",
    "\n",
    "reportDTC = classification_report(y_test,predDTC, output_dict = True)\n",
    "\n",
    "crDTC = pd.DataFrame(reportDTC).transpose()\n",
    "dtc_acc=accuracy_score(y_test,predDTC)\n",
    "print(dtc_acc)\n",
    "crDTC"
   ]
  },
  {
   "cell_type": "code",
   "execution_count": 58,
   "id": "0766e033",
   "metadata": {},
   "outputs": [
    {
     "data": {
      "text/plain": [
       "0.733100233100233"
      ]
     },
     "execution_count": 58,
     "metadata": {},
     "output_type": "execute_result"
    }
   ],
   "source": [
    "from sklearn.model_selection import cross_val_score\n",
    "dtc_cv=cross_val_score(DTC,x,y,scoring='accuracy', cv =13).mean()\n",
    "dtc_cv"
   ]
  },
  {
   "cell_type": "markdown",
   "id": "43059dd1",
   "metadata": {},
   "source": [
    "# LogisticRegression"
   ]
  },
  {
   "cell_type": "code",
   "execution_count": 59,
   "id": "45392bbd",
   "metadata": {},
   "outputs": [
    {
     "name": "stdout",
     "output_type": "stream",
     "text": [
      "0.7844827586206896\n",
      "[[22 21]\n",
      " [ 4 69]]\n"
     ]
    },
    {
     "data": {
      "text/html": [
       "<div>\n",
       "<style scoped>\n",
       "    .dataframe tbody tr th:only-of-type {\n",
       "        vertical-align: middle;\n",
       "    }\n",
       "\n",
       "    .dataframe tbody tr th {\n",
       "        vertical-align: top;\n",
       "    }\n",
       "\n",
       "    .dataframe thead th {\n",
       "        text-align: right;\n",
       "    }\n",
       "</style>\n",
       "<table border=\"1\" class=\"dataframe\">\n",
       "  <thead>\n",
       "    <tr style=\"text-align: right;\">\n",
       "      <th></th>\n",
       "      <th>precision</th>\n",
       "      <th>recall</th>\n",
       "      <th>f1-score</th>\n",
       "      <th>support</th>\n",
       "    </tr>\n",
       "  </thead>\n",
       "  <tbody>\n",
       "    <tr>\n",
       "      <th>0.0</th>\n",
       "      <td>0.846154</td>\n",
       "      <td>0.511628</td>\n",
       "      <td>0.637681</td>\n",
       "      <td>43.000000</td>\n",
       "    </tr>\n",
       "    <tr>\n",
       "      <th>1.0</th>\n",
       "      <td>0.766667</td>\n",
       "      <td>0.945205</td>\n",
       "      <td>0.846626</td>\n",
       "      <td>73.000000</td>\n",
       "    </tr>\n",
       "    <tr>\n",
       "      <th>accuracy</th>\n",
       "      <td>0.784483</td>\n",
       "      <td>0.784483</td>\n",
       "      <td>0.784483</td>\n",
       "      <td>0.784483</td>\n",
       "    </tr>\n",
       "    <tr>\n",
       "      <th>macro avg</th>\n",
       "      <td>0.806410</td>\n",
       "      <td>0.728417</td>\n",
       "      <td>0.742153</td>\n",
       "      <td>116.000000</td>\n",
       "    </tr>\n",
       "    <tr>\n",
       "      <th>weighted avg</th>\n",
       "      <td>0.796132</td>\n",
       "      <td>0.784483</td>\n",
       "      <td>0.769172</td>\n",
       "      <td>116.000000</td>\n",
       "    </tr>\n",
       "  </tbody>\n",
       "</table>\n",
       "</div>"
      ],
      "text/plain": [
       "              precision    recall  f1-score     support\n",
       "0.0            0.846154  0.511628  0.637681   43.000000\n",
       "1.0            0.766667  0.945205  0.846626   73.000000\n",
       "accuracy       0.784483  0.784483  0.784483    0.784483\n",
       "macro avg      0.806410  0.728417  0.742153  116.000000\n",
       "weighted avg   0.796132  0.784483  0.769172  116.000000"
      ]
     },
     "execution_count": 59,
     "metadata": {},
     "output_type": "execute_result"
    }
   ],
   "source": [
    "from sklearn.linear_model import LogisticRegression\n",
    "\n",
    "LReg = LogisticRegression(solver='lbfgs', max_iter=400,random_state=42)\n",
    "\n",
    "LReg.fit(x_train,y_train)\n",
    "\n",
    "predLReg = LReg.predict(x_test)\n",
    "\n",
    "reportLReg = classification_report(y_test, predLReg, output_dict = True)\n",
    "\n",
    "crLReg = pd.DataFrame(reportLReg).transpose()\n",
    "logisticregression_acc=accuracy_score(y_test,predLReg)\n",
    "print(logisticregression_acc)\n",
    "print(confusion_matrix(y_test, predLReg))\n",
    "crLReg"
   ]
  },
  {
   "cell_type": "code",
   "execution_count": 60,
   "id": "af7e77f3",
   "metadata": {},
   "outputs": [
    {
     "data": {
      "text/plain": [
       "0.8145689407023604"
      ]
     },
     "execution_count": 60,
     "metadata": {},
     "output_type": "execute_result"
    }
   ],
   "source": [
    "logisticregression_cv= cross_val_score(LReg,x,y,scoring='accuracy', cv = 3).mean()\n",
    "logisticregression_cv"
   ]
  },
  {
   "cell_type": "code",
   "execution_count": 61,
   "id": "f5660352",
   "metadata": {},
   "outputs": [
    {
     "name": "stdout",
     "output_type": "stream",
     "text": [
      "model                     accuracy            cv           difference\n",
      "-------------------------------------------------------------------------------------\n",
      "random forest             0.78              0.91                 -0.13\n",
      "logisticregression        0.78              0.81                 -0.03\n",
      "SVC                       0.78              0.69                 0.09\n",
      "gaussian naive bayes      0.79             0.81                 -0.02\n",
      "decission tree classifier 0.74              0.73                 0.01\n",
      "KNN                       0.73              0.65                 0.08\n"
     ]
    }
   ],
   "source": [
    "print(\"model                    \",\"accuracy           \",\"cv          \",\"difference\")\n",
    "print(\"-------------------------------------------------------------------------------------\")\n",
    "print(\"random forest            \", round(randomforest_accu,2),\"            \",round(randomforest_cv,2 ),\"               \",round(randomforest_accu-randomforest_cv,2 ))\n",
    "print(\"logisticregression       \",round(logisticregression_acc,2),\"            \",round(logisticregression_cv,2),\"               \",round(logisticregression_acc-logisticregression_cv,2 ))\n",
    "print(\"SVC                      \",round(svc_acc,2),\"            \",round(svc_cv,2),\"               \",round(svc_acc-svc_cv,2 ))\n",
    "print(\"gaussian naive bayes     \",round(gnb_acc,2),\"           \",round(gnb_cv,2),\"               \",round(gnb_acc-gnb_cv,2 ))\n",
    "print(\"decission tree classifier\",round(dtc_acc,2),\"            \",round(dtc_cv,2),\"               \",round(dtc_acc-dtc_cv,2 ))\n",
    "print(\"KNN                      \",round(knn_acc,2),\"            \",round(knn_cv,2),\"               \",round(knn_acc-knn_cv,2 ))\n"
   ]
  },
  {
   "cell_type": "markdown",
   "id": "08942598",
   "metadata": {},
   "source": [
    "The best model for this problem is gaussian naive bayes which gives least diff btween accuracy score and cv score."
   ]
  },
  {
   "cell_type": "markdown",
   "id": "ddaf57b1",
   "metadata": {},
   "source": [
    "# Hyper parameter Tuning"
   ]
  },
  {
   "cell_type": "markdown",
   "id": "90eb749d",
   "metadata": {},
   "source": [
    "finding best random state"
   ]
  },
  {
   "cell_type": "code",
   "execution_count": 62,
   "id": "273fc5a4",
   "metadata": {},
   "outputs": [
    {
     "name": "stdout",
     "output_type": "stream",
     "text": [
      "0 1.3519813519813517\n",
      "least value 0 1.3519813519813517\n",
      "1 1.482292807594012\n",
      "2 1.4881578947368423\n",
      "3 1.4097222222222217\n",
      "4 1.1570141570141568\n",
      "least value 4 1.1570141570141568\n",
      "5 1.4871794871794874\n",
      "6 1.1585518102372032\n",
      "7 0.9703989703989703\n",
      "least value 7 0.9703989703989703\n",
      "8 1.056260162601626\n",
      "9 1.581061692969871\n",
      "10 1.4087286527514227\n",
      "11 1.1351010101010102\n",
      "12 1.3033707865168536\n",
      "13 1.2486111111111107\n",
      "14 1.5281862745098043\n",
      "15 1.424107142857143\n",
      "16 1.4042688754380377\n",
      "17 1.6288425047438326\n",
      "18 1.2316602316602314\n",
      "19 1.4292374292374292\n",
      "20 1.3291666666666662\n",
      "21 1.4730158730158727\n",
      "22 1.2275132275132272\n",
      "23 1.358048780487805\n",
      "24 1.539454806312769\n",
      "25 1.576086956521739\n",
      "26 1.158841158841159\n",
      "27 1.5263157894736845\n",
      "28 1.391181657848324\n",
      "29 1.0373111316682087\n",
      "30 1.2888888888888885\n",
      "31 1.3133533133533133\n",
      "32 1.252361673414305\n",
      "33 1.5172413793103448\n",
      "34 1.3149509803921573\n",
      "35 1.3291666666666662\n",
      "36 1.409722222222222\n",
      "37 1.545121545121545\n",
      "38 1.5669952537422414\n",
      "39 0.8183421516754849\n",
      "least value 39 0.8183421516754849\n",
      "40 1.609346476816356\n",
      "41 1.4967741935483867\n",
      "42 1.320683111954459\n",
      "43 1.2514880952380953\n",
      "44 1.496774193548387\n",
      "45 1.335526315789474\n",
      "46 1.3314203730272596\n",
      "47 0.9977699904428161\n",
      "48 1.2888888888888885\n",
      "49 1.1447368421052633\n",
      "50 0.9666666666666662\n",
      "51 1.6093464768163561\n",
      "52 1.2482065997130558\n",
      "53 1.411842105263158\n",
      "54 1.1447368421052633\n",
      "55 1.3093474426807756\n",
      "56 1.2413793103448276\n",
      "57 1.1943371943371943\n",
      "58 1.1456790123456786\n",
      "59 1.3128879152975537\n",
      "60 1.3552391383716682\n",
      "61 1.3291666666666662\n",
      "62 1.432098765432098\n",
      "63 1.3492986657543622\n",
      "64 1.3697705802968962\n",
      "65 1.440993788819876\n",
      "66 1.663565891472868\n",
      "67 1.335526315789474\n",
      "68 1.8850574712643677\n",
      "69 1.2302429011289773\n",
      "70 1.1570141570141568\n",
      "71 1.0043290043290043\n",
      "72 1.1277777777777775\n",
      "73 1.1196911196911195\n",
      "74 1.3796557120500785\n",
      "75 1.5669952537422414\n",
      "76 1.2968944099378885\n",
      "77 1.169430894308943\n",
      "78 1.4399415845198975\n",
      "79 1.5736434108527129\n",
      "80 1.4089068825910933\n",
      "81 1.6513888888888884\n",
      "82 1.2139534883720928\n",
      "83 1.206599713055954\n",
      "84 1.6006493506493502\n",
      "85 1.2523616734143053\n",
      "86 1.1447368421052633\n",
      "87 1.4555984555984554\n",
      "88 1.411842105263158\n",
      "89 1.5708333333333329\n",
      "90 1.208333333333333\n",
      "91 1.6477272727272727\n",
      "92 1.4881578947368423\n",
      "93 1.1740890688259111\n",
      "94 2.1149425287356323\n",
      "95 1.3488372093023253\n",
      "96 1.2065997130559543\n",
      "97 1.364705882352941\n",
      "98 1.169430894308943\n",
      "99 1.1865961199294528\n"
     ]
    }
   ],
   "source": [
    "#FINDING BEST RANDOM STATE\n",
    "\n",
    "from sklearn.metrics import r2_score\n",
    "d=5\n",
    "for i in range(0,100):\n",
    "  x_train, x_test, y_train, y_test = train_test_split(x,y,test_size=0.2,random_state=i)\n",
    "  DTC.fit(x_train,y_train)\n",
    "  pred_train=DTC.predict(x_train)\n",
    "  pred_test = DTC.predict(x_test)\n",
    "  a=r2_score(y_train,pred_train)\n",
    "  b=r2_score(y_test,pred_test)\n",
    "  c=a-b\n",
    "  print(i,c)\n",
    "  if d>=c:\n",
    "    d=c\n",
    "    print(\"least value\",i,d)"
   ]
  },
  {
   "cell_type": "code",
   "execution_count": 63,
   "id": "4366268f",
   "metadata": {},
   "outputs": [],
   "source": [
    "x_train, x_test, y_train, y_test = train_test_split(x,y,test_size=0.2,random_state=39)"
   ]
  },
  {
   "cell_type": "code",
   "execution_count": 64,
   "id": "77a927fa",
   "metadata": {},
   "outputs": [
    {
     "name": "stdout",
     "output_type": "stream",
     "text": [
      "Fitting 5 folds for each of 100 candidates, totalling 500 fits\n"
     ]
    },
    {
     "data": {
      "text/plain": [
       "GridSearchCV(cv=5, estimator=GaussianNB(),\n",
       "             param_grid={'var_smoothing': array([1.00000000e+00, 8.11130831e-01, 6.57933225e-01, 5.33669923e-01,\n",
       "       4.32876128e-01, 3.51119173e-01, 2.84803587e-01, 2.31012970e-01,\n",
       "       1.87381742e-01, 1.51991108e-01, 1.23284674e-01, 1.00000000e-01,\n",
       "       8.11130831e-02, 6.57933225e-02, 5.33669923e-02, 4.32876128e-02,\n",
       "       3.51119173e-02, 2.84803587e-02, 2.31...\n",
       "       1.23284674e-07, 1.00000000e-07, 8.11130831e-08, 6.57933225e-08,\n",
       "       5.33669923e-08, 4.32876128e-08, 3.51119173e-08, 2.84803587e-08,\n",
       "       2.31012970e-08, 1.87381742e-08, 1.51991108e-08, 1.23284674e-08,\n",
       "       1.00000000e-08, 8.11130831e-09, 6.57933225e-09, 5.33669923e-09,\n",
       "       4.32876128e-09, 3.51119173e-09, 2.84803587e-09, 2.31012970e-09,\n",
       "       1.87381742e-09, 1.51991108e-09, 1.23284674e-09, 1.00000000e-09])},\n",
       "             scoring='accuracy', verbose=1)"
      ]
     },
     "execution_count": 64,
     "metadata": {},
     "output_type": "execute_result"
    }
   ],
   "source": [
    "from sklearn.model_selection import GridSearchCV\n",
    "nb_classifier = GaussianNB()\n",
    "\n",
    "params_NB = {'var_smoothing': np.logspace(0,-9, num=100)}\n",
    "gs_NB = GridSearchCV(estimator=nb_classifier, \n",
    "                 param_grid=params_NB, \n",
    "                 cv=5,   # use any cross validation technique \n",
    "                 verbose=1, \n",
    "                 scoring='accuracy') \n",
    "gs_NB.fit(x_train, y_train)"
   ]
  },
  {
   "cell_type": "code",
   "execution_count": 65,
   "id": "47ba7d4d",
   "metadata": {},
   "outputs": [
    {
     "data": {
      "text/plain": [
       "{'var_smoothing': 1e-05}"
      ]
     },
     "execution_count": 65,
     "metadata": {},
     "output_type": "execute_result"
    }
   ],
   "source": [
    "gs_NB.best_params_"
   ]
  },
  {
   "cell_type": "code",
   "execution_count": 66,
   "id": "71c60813",
   "metadata": {},
   "outputs": [
    {
     "name": "stdout",
     "output_type": "stream",
     "text": [
      "0.8879310344827587\n"
     ]
    },
    {
     "data": {
      "text/html": [
       "<div>\n",
       "<style scoped>\n",
       "    .dataframe tbody tr th:only-of-type {\n",
       "        vertical-align: middle;\n",
       "    }\n",
       "\n",
       "    .dataframe tbody tr th {\n",
       "        vertical-align: top;\n",
       "    }\n",
       "\n",
       "    .dataframe thead th {\n",
       "        text-align: right;\n",
       "    }\n",
       "</style>\n",
       "<table border=\"1\" class=\"dataframe\">\n",
       "  <thead>\n",
       "    <tr style=\"text-align: right;\">\n",
       "      <th></th>\n",
       "      <th>precision</th>\n",
       "      <th>recall</th>\n",
       "      <th>f1-score</th>\n",
       "      <th>support</th>\n",
       "    </tr>\n",
       "  </thead>\n",
       "  <tbody>\n",
       "    <tr>\n",
       "      <th>0.0</th>\n",
       "      <td>1.000000</td>\n",
       "      <td>0.628571</td>\n",
       "      <td>0.771930</td>\n",
       "      <td>35.000000</td>\n",
       "    </tr>\n",
       "    <tr>\n",
       "      <th>1.0</th>\n",
       "      <td>0.861702</td>\n",
       "      <td>1.000000</td>\n",
       "      <td>0.925714</td>\n",
       "      <td>81.000000</td>\n",
       "    </tr>\n",
       "    <tr>\n",
       "      <th>accuracy</th>\n",
       "      <td>0.887931</td>\n",
       "      <td>0.887931</td>\n",
       "      <td>0.887931</td>\n",
       "      <td>0.887931</td>\n",
       "    </tr>\n",
       "    <tr>\n",
       "      <th>macro avg</th>\n",
       "      <td>0.930851</td>\n",
       "      <td>0.814286</td>\n",
       "      <td>0.848822</td>\n",
       "      <td>116.000000</td>\n",
       "    </tr>\n",
       "    <tr>\n",
       "      <th>weighted avg</th>\n",
       "      <td>0.903430</td>\n",
       "      <td>0.887931</td>\n",
       "      <td>0.879314</td>\n",
       "      <td>116.000000</td>\n",
       "    </tr>\n",
       "  </tbody>\n",
       "</table>\n",
       "</div>"
      ],
      "text/plain": [
       "              precision    recall  f1-score     support\n",
       "0.0            1.000000  0.628571  0.771930   35.000000\n",
       "1.0            0.861702  1.000000  0.925714   81.000000\n",
       "accuracy       0.887931  0.887931  0.887931    0.887931\n",
       "macro avg      0.930851  0.814286  0.848822  116.000000\n",
       "weighted avg   0.903430  0.887931  0.879314  116.000000"
      ]
     },
     "execution_count": 66,
     "metadata": {},
     "output_type": "execute_result"
    }
   ],
   "source": [
    "from sklearn.naive_bayes import GaussianNB\n",
    "GNB = GaussianNB(var_smoothing = 1e-05)\n",
    "\n",
    "GNB.fit(x_train,y_train)\n",
    "\n",
    "predGNB = GNB.predict(x_test)\n",
    "\n",
    "reportGNB = classification_report(y_test, predGNB, output_dict = True)\n",
    "  \n",
    "crGNB = pd.DataFrame(reportGNB).transpose()\n",
    "gnb_acc=accuracy_score(y_test,predGNB)\n",
    "print(gnb_acc)\n",
    "crGNB"
   ]
  },
  {
   "cell_type": "code",
   "execution_count": 67,
   "id": "df863906",
   "metadata": {},
   "outputs": [
    {
     "data": {
      "text/plain": [
       "0.8146026986506746"
      ]
     },
     "execution_count": 67,
     "metadata": {},
     "output_type": "execute_result"
    }
   ],
   "source": [
    "gnb_cv=cross_val_score(GNB,x,y,scoring='accuracy', cv = 5).mean()\n",
    "gnb_cv"
   ]
  },
  {
   "cell_type": "markdown",
   "id": "2d194a33",
   "metadata": {},
   "source": [
    " The best model is Gaussian NB with 88% accuracy"
   ]
  },
  {
   "cell_type": "markdown",
   "id": "7ffa4f06",
   "metadata": {},
   "source": [
    "# Evaluation metric"
   ]
  },
  {
   "cell_type": "code",
   "execution_count": 68,
   "id": "ca6cca21",
   "metadata": {},
   "outputs": [],
   "source": [
    "from sklearn.datasets import make_circles\n",
    "from sklearn.metrics import accuracy_score\n",
    "from sklearn.metrics import precision_score\n",
    "from sklearn.metrics import recall_score\n",
    "from sklearn.metrics import f1_score\n",
    "from sklearn.metrics import roc_auc_score\n",
    "from sklearn.metrics import confusion_matrix"
   ]
  },
  {
   "cell_type": "code",
   "execution_count": 69,
   "id": "06772adf",
   "metadata": {},
   "outputs": [
    {
     "name": "stdout",
     "output_type": "stream",
     "text": [
      "------------------------------------------\n",
      "GaussianNB\n",
      "-----------------------------------------\n",
      "Accuracy: 0.887931\n",
      "Precision: 0.861702\n",
      "Recall: 1.000000\n",
      "F1 score: 0.925714\n"
     ]
    }
   ],
   "source": [
    "print(\"------------------------------------------\")\n",
    "print(\"GaussianNB\")\n",
    "print(\"-----------------------------------------\")\n",
    "# accuracy: (tp + tn) / (p + n)\n",
    "accuracy_gnb = gnb_acc\n",
    "print('Accuracy: %f' % accuracy_gnb)\n",
    "# precision tp / (tp + fp)\n",
    "precision_gnb = precision_score(y_test, predGNB)\n",
    "print('Precision: %f' % precision_gnb)\n",
    "# recall: tp / (tp + fn)\n",
    "recall_gnb = recall_score(y_test, predGNB)\n",
    "print('Recall: %f' % recall_gnb)\n",
    "# f1: 2 tp / (2 tp + fp + fn)\n",
    "f1_gnb = f1_score(y_test, predGNB)\n",
    "print('F1 score: %f' % f1_gnb)"
   ]
  },
  {
   "cell_type": "markdown",
   "id": "2923e7ad",
   "metadata": {},
   "source": [
    "# roc_auc_score"
   ]
  },
  {
   "cell_type": "code",
   "execution_count": 70,
   "id": "7852bbc3",
   "metadata": {},
   "outputs": [],
   "source": [
    "# train models\n",
    "model1 = GaussianNB()\n",
    "\n",
    "# fit model\n",
    "model1.fit(x_train, y_train)\n",
    "\n",
    "# predict probabilities\n",
    "pred_prob1 = model1.predict_proba(x_test)"
   ]
  },
  {
   "cell_type": "code",
   "execution_count": 71,
   "id": "f49a89fd",
   "metadata": {},
   "outputs": [],
   "source": [
    "from sklearn.metrics import roc_curve\n",
    "\n",
    "# roc curve for models\n",
    "fpr1, tpr1, thresh1 = roc_curve(y_test, pred_prob1[:,1], pos_label=1)\n",
    "\n",
    "# roc curve for tpr = fpr \n",
    "random_probs = [0 for i in range(len(y_test))]\n",
    "p_fpr, p_tpr, _ = roc_curve(y_test, random_probs, pos_label=1)"
   ]
  },
  {
   "cell_type": "code",
   "execution_count": 72,
   "id": "dc9ef154",
   "metadata": {},
   "outputs": [
    {
     "name": "stdout",
     "output_type": "stream",
     "text": [
      "0.835626102292769\n"
     ]
    }
   ],
   "source": [
    "from sklearn.metrics import roc_auc_score\n",
    "\n",
    "# auc scores\n",
    "auc_score1 = roc_auc_score(y_test, pred_prob1[:,1])\n",
    "\n",
    "print(auc_score1)"
   ]
  },
  {
   "cell_type": "markdown",
   "id": "78a296b6",
   "metadata": {},
   "source": [
    "# Model saving"
   ]
  },
  {
   "cell_type": "code",
   "execution_count": 73,
   "id": "2ce9f6ae",
   "metadata": {},
   "outputs": [
    {
     "data": {
      "text/plain": [
       "['final model.pkl']"
      ]
     },
     "execution_count": 73,
     "metadata": {},
     "output_type": "execute_result"
    }
   ],
   "source": [
    "import joblib\n",
    "joblib.dump(GNB,\"final model.pkl\")"
   ]
  },
  {
   "cell_type": "code",
   "execution_count": null,
   "id": "5e0d559d",
   "metadata": {},
   "outputs": [],
   "source": []
  }
 ],
 "metadata": {
  "kernelspec": {
   "display_name": "Python 3 (ipykernel)",
   "language": "python",
   "name": "python3"
  },
  "language_info": {
   "codemirror_mode": {
    "name": "ipython",
    "version": 3
   },
   "file_extension": ".py",
   "mimetype": "text/x-python",
   "name": "python",
   "nbconvert_exporter": "python",
   "pygments_lexer": "ipython3",
   "version": "3.9.13"
  }
 },
 "nbformat": 4,
 "nbformat_minor": 5
}
